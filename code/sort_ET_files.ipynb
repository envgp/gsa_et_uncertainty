{
 "cells": [
  {
   "cell_type": "code",
   "execution_count": 1,
   "id": "079da45a",
   "metadata": {},
   "outputs": [],
   "source": [
    "import numpy as np\n",
    "import pandas as pd\n",
    "import glob\n",
    "import geopandas as gp\n"
   ]
  },
  {
   "cell_type": "code",
   "execution_count": 2,
   "id": "ea6c02d2",
   "metadata": {},
   "outputs": [],
   "source": [
    "output_dir = \"../data/gsa_et/\"\n",
    "# Load GSAs shapefile and clean them so we only have \"large GSAs\"\n",
    "gsa_shape = gp.read_file(\n",
    "    \"../shape/i03_Groundwater_Sustainability_Plan_Areas_MapService.shp\"\n",
    ")\n",
    "cv_shape = gp.read_file(\"../shape/Alluvial_Bnd.shp\")\n",
    "cv_shape.to_crs(3310, inplace=True)\n",
    "gsa_shape.to_crs(3310, inplace=True)\n",
    "cv_shape[\"geometry\"] = cv_shape.geometry.buffer(10000)\n",
    "gsa_cv = gsa_shape.within(cv_shape.loc[0, \"geometry\"])\n",
    "gsa_cv = gsa_shape.loc[gsa_cv]\n",
    "gsa_cv_cleaned_no_small = gsa_cv[gsa_cv[\"ShapeSTAre\"] > 4e8]\n",
    "gsa_names = []\n",
    "gsa_ids = []"
   ]
  },
  {
   "cell_type": "code",
   "execution_count": 3,
   "id": "9f73a218",
   "metadata": {},
   "outputs": [],
   "source": [
    "output_dirs = glob.glob(\"../data/gsa_et_gsp/*\")"
   ]
  },
  {
   "cell_type": "code",
   "execution_count": 4,
   "id": "e98d136b",
   "metadata": {},
   "outputs": [
    {
     "data": {
      "text/plain": [
       "['../data/gsa_et_gsp/61',\n",
       " '../data/gsa_et_gsp/92',\n",
       " '../data/gsa_et_gsp/50',\n",
       " '../data/gsa_et_gsp/57',\n",
       " '../data/gsa_et_gsp/150',\n",
       " '../data/gsa_et_gsp/56',\n",
       " '../data/gsa_et_gsp/51',\n",
       " '../data/gsa_et_gsp/58',\n",
       " '../data/gsa_et_gsp/134',\n",
       " '../data/gsa_et_gsp/94',\n",
       " '../data/gsa_et_gsp/20',\n",
       " '../data/gsa_et_gsp/9',\n",
       " '../data/gsa_et_gsp/145',\n",
       " '../data/gsa_et_gsp/7',\n",
       " '../data/gsa_et_gsp/42',\n",
       " '../data/gsa_et_gsp/45',\n",
       " '../data/gsa_et_gsp/111',\n",
       " '../data/gsa_et_gsp/120',\n",
       " '../data/gsa_et_gsp/28',\n",
       " '../data/gsa_et_gsp/26',\n",
       " '../data/gsa_et_gsp/8',\n",
       " '../data/gsa_et_gsp/21',\n",
       " '../data/gsa_et_gsp/86',\n",
       " '../data/gsa_et_gsp/44',\n",
       " '../data/gsa_et_gsp/110',\n",
       " '../data/gsa_et_gsp/43',\n",
       " '../data/gsa_et_gsp/117',\n",
       " '../data/gsa_et_gsp/38',\n",
       " '../data/gsa_et_gsp/36',\n",
       " '../data/gsa_et_gsp/31',\n",
       " '../data/gsa_et_gsp/65',\n",
       " '../data/gsa_et_gsp/96',\n",
       " '../data/gsa_et_gsp/100',\n",
       " '../data/gsa_et_gsp/54',\n",
       " '../data/gsa_et_gsp/98',\n",
       " '../data/gsa_et_gsp/53',\n",
       " '../data/gsa_et_gsp/30',\n",
       " '../data/gsa_et_gsp/37',\n",
       " '../data/gsa_et_gsp/106',\n",
       " '../data/gsa_et_gsp/99',\n",
       " '../data/gsa_et_gsp/52',\n",
       " '../data/gsa_et_gsp/139',\n",
       " '../data/gsa_et_gsp/137',\n",
       " '../data/gsa_et_gsp/63',\n",
       " '../data/gsa_et_gsp/112',\n",
       " '../data/gsa_et_gsp/83',\n",
       " '../data/gsa_et_gsp/123',\n",
       " '../data/gsa_et_gsp/48',\n",
       " '../data/gsa_et_gsp/24',\n",
       " '../data/gsa_et_gsp/23',\n",
       " '../data/gsa_et_gsp/15',\n",
       " '../data/gsa_et_gsp/12',\n",
       " '../data/gsa_et_gsp/85',\n",
       " '../data/gsa_et_gsp/82',\n",
       " '../data/gsa_et_gsp/49',\n",
       " '../data/gsa_et_gsp/122',\n",
       " '../data/gsa_et_gsp/47',\n",
       " '../data/gsa_et_gsp/13',\n",
       " '../data/gsa_et_gsp/140',\n",
       " '../data/gsa_et_gsp/14',\n",
       " '../data/gsa_et_gsp/22',\n",
       " '../data/gsa_et_gsp/25']"
      ]
     },
     "execution_count": 4,
     "metadata": {},
     "output_type": "execute_result"
    }
   ],
   "source": [
    "output_dirs"
   ]
  },
  {
   "cell_type": "code",
   "execution_count": 5,
   "id": "bb4adc7e",
   "metadata": {},
   "outputs": [
    {
     "data": {
      "text/plain": [
       "['../data/gsa_et_gsp/61/PT-JPL_2017-01-01.csv',\n",
       " '../data/gsa_et_gsp/61/eeMETRIC_2020-01-01.csv',\n",
       " '../data/gsa_et_gsp/61/tc_2017-01-01.csv',\n",
       " '../data/gsa_et_gsp/61/geeSEBAL_2018-01-01.csv',\n",
       " '../data/gsa_et_gsp/61/modis_2018-01-01.csv',\n",
       " '../data/gsa_et_gsp/61/tc_2003-01-01.csv',\n",
       " '../data/gsa_et_gsp/61/geeSEBAL_2020-01-01.csv',\n",
       " '../data/gsa_et_gsp/61/modis_2020-01-01.csv',\n",
       " '../data/gsa_et_gsp/61/modis_2001-01-01.csv',\n",
       " '../data/gsa_et_gsp/61/eeMETRIC_2018-01-01.csv',\n",
       " '../data/gsa_et_gsp/61/modis_2015-01-01.csv',\n",
       " '../data/gsa_et_gsp/61/tc_2011-01-01.csv',\n",
       " '../data/gsa_et_gsp/61/tc_2005-01-01.csv',\n",
       " '../data/gsa_et_gsp/61/openet_2019-01-01.csv',\n",
       " '../data/gsa_et_gsp/61/SSEBop_2019-01-01.csv',\n",
       " '../data/gsa_et_gsp/61/modis_2007-01-01.csv',\n",
       " '../data/gsa_et_gsp/61/tc_2008-01-01.csv',\n",
       " '../data/gsa_et_gsp/61/modis_2013-01-01.csv',\n",
       " '../data/gsa_et_gsp/61/SIMS_2016-01-01.csv',\n",
       " '../data/gsa_et_gsp/61/DisALEXI_2016-01-01.csv',\n",
       " '../data/gsa_et_gsp/61/PT-JPL_2016-01-01.csv',\n",
       " '../data/gsa_et_gsp/61/modis_2019-01-01.csv',\n",
       " '../data/gsa_et_gsp/61/tc_2002-01-01.csv',\n",
       " '../data/gsa_et_gsp/61/geeSEBAL_2019-01-01.csv',\n",
       " '../data/gsa_et_gsp/61/tc_2016-01-01.csv',\n",
       " '../data/gsa_et_gsp/61/modis_2014-01-01.csv',\n",
       " '../data/gsa_et_gsp/61/eeMETRIC_2019-01-01.csv',\n",
       " '../data/gsa_et_gsp/61/tc_2004-01-01.csv',\n",
       " '../data/gsa_et_gsp/61/tc_2010-01-01.csv',\n",
       " '../data/gsa_et_gsp/61/SSEBop_2018-01-01.csv',\n",
       " '../data/gsa_et_gsp/61/openet_2018-01-01.csv',\n",
       " '../data/gsa_et_gsp/61/tc_2009-01-01.csv',\n",
       " '../data/gsa_et_gsp/61/modis_2012-01-01.csv',\n",
       " '../data/gsa_et_gsp/61/SSEBop_2020-01-01.csv',\n",
       " '../data/gsa_et_gsp/61/modis_2006-01-01.csv',\n",
       " '../data/gsa_et_gsp/61/openet_2020-01-01.csv',\n",
       " '../data/gsa_et_gsp/61/SIMS_2017-01-01.csv',\n",
       " '../data/gsa_et_gsp/61/DisALEXI_2017-01-01.csv',\n",
       " '../data/gsa_et_gsp/61/PT-JPL_2020-01-01.csv',\n",
       " '../data/gsa_et_gsp/61/tc_2015-01-01.csv',\n",
       " '../data/gsa_et_gsp/61/eeMETRIC_2017-01-01.csv',\n",
       " '../data/gsa_et_gsp/61/tc_2001-01-01.csv',\n",
       " '../data/gsa_et_gsp/61/tc_2020-01-01.csv',\n",
       " '../data/gsa_et_gsp/61/geeSEBAL_2017-01-01.csv',\n",
       " '../data/gsa_et_gsp/61/tc_2018-01-01.csv',\n",
       " '../data/gsa_et_gsp/61/modis_2003-01-01.csv',\n",
       " '../data/gsa_et_gsp/61/modis_2017-01-01.csv',\n",
       " '../data/gsa_et_gsp/61/PT-JPL_2018-01-01.csv',\n",
       " '../data/gsa_et_gsp/61/SIMS_2019-01-01.csv',\n",
       " '../data/gsa_et_gsp/61/DisALEXI_2019-01-01.csv',\n",
       " '../data/gsa_et_gsp/61/modis_2008-01-01.csv',\n",
       " '../data/gsa_et_gsp/61/tc_2013-01-01.csv',\n",
       " '../data/gsa_et_gsp/61/tc_2007-01-01.csv',\n",
       " '../data/gsa_et_gsp/61/openet_2016-01-01.csv',\n",
       " '../data/gsa_et_gsp/61/SSEBop_2016-01-01.csv',\n",
       " '../data/gsa_et_gsp/61/modis_2005-01-01.csv',\n",
       " '../data/gsa_et_gsp/61/modis_2011-01-01.csv',\n",
       " '../data/gsa_et_gsp/61/tc_2014-01-01.csv',\n",
       " '../data/gsa_et_gsp/61/eeMETRIC_2016-01-01.csv',\n",
       " '../data/gsa_et_gsp/61/modis_2016-01-01.csv',\n",
       " '../data/gsa_et_gsp/61/tc_2019-01-01.csv',\n",
       " '../data/gsa_et_gsp/61/geeSEBAL_2016-01-01.csv',\n",
       " '../data/gsa_et_gsp/61/modis_2002-01-01.csv',\n",
       " '../data/gsa_et_gsp/61/PT-JPL_2019-01-01.csv',\n",
       " '../data/gsa_et_gsp/61/SIMS_2018-01-01.csv',\n",
       " '../data/gsa_et_gsp/61/DisALEXI_2018-01-01.csv',\n",
       " '../data/gsa_et_gsp/61/tc_2006-01-01.csv',\n",
       " '../data/gsa_et_gsp/61/modis_2009-01-01.csv',\n",
       " '../data/gsa_et_gsp/61/tc_2012-01-01.csv',\n",
       " '../data/gsa_et_gsp/61/SSEBop_2017-01-01.csv',\n",
       " '../data/gsa_et_gsp/61/openet_2017-01-01.csv',\n",
       " '../data/gsa_et_gsp/61/modis_2010-01-01.csv',\n",
       " '../data/gsa_et_gsp/61/modis_2004-01-01.csv',\n",
       " '../data/gsa_et_gsp/61/DisALEXI_2020-01-01.csv',\n",
       " '../data/gsa_et_gsp/61/SIMS_2020-01-01.csv']"
      ]
     },
     "execution_count": 5,
     "metadata": {},
     "output_type": "execute_result"
    }
   ],
   "source": [
    "sample_dir = output_dirs[0]\n",
    "sample_dir_files = glob.glob(output_dirs[0] + '/*')\n",
    "sample_dir_files"
   ]
  },
  {
   "cell_type": "code",
   "execution_count": 6,
   "id": "3eca60ef",
   "metadata": {},
   "outputs": [
    {
     "data": {
      "text/plain": [
       "['PT-JPL',\n",
       " 'eeMETRIC',\n",
       " 'tc',\n",
       " 'geeSEBAL',\n",
       " 'modis',\n",
       " 'tc',\n",
       " 'geeSEBAL',\n",
       " 'modis',\n",
       " 'modis',\n",
       " 'eeMETRIC',\n",
       " 'modis',\n",
       " 'tc',\n",
       " 'tc',\n",
       " 'openet',\n",
       " 'SSEBop',\n",
       " 'modis',\n",
       " 'tc',\n",
       " 'modis',\n",
       " 'SIMS',\n",
       " 'DisALEXI',\n",
       " 'PT-JPL',\n",
       " 'modis',\n",
       " 'tc',\n",
       " 'geeSEBAL',\n",
       " 'tc',\n",
       " 'modis',\n",
       " 'eeMETRIC',\n",
       " 'tc',\n",
       " 'tc',\n",
       " 'SSEBop',\n",
       " 'openet',\n",
       " 'tc',\n",
       " 'modis',\n",
       " 'SSEBop',\n",
       " 'modis',\n",
       " 'openet',\n",
       " 'SIMS',\n",
       " 'DisALEXI',\n",
       " 'PT-JPL',\n",
       " 'tc',\n",
       " 'eeMETRIC',\n",
       " 'tc',\n",
       " 'tc',\n",
       " 'geeSEBAL',\n",
       " 'tc',\n",
       " 'modis',\n",
       " 'modis',\n",
       " 'PT-JPL',\n",
       " 'SIMS',\n",
       " 'DisALEXI',\n",
       " 'modis',\n",
       " 'tc',\n",
       " 'tc',\n",
       " 'openet',\n",
       " 'SSEBop',\n",
       " 'modis',\n",
       " 'modis',\n",
       " 'tc',\n",
       " 'eeMETRIC',\n",
       " 'modis',\n",
       " 'tc',\n",
       " 'geeSEBAL',\n",
       " 'modis',\n",
       " 'PT-JPL',\n",
       " 'SIMS',\n",
       " 'DisALEXI',\n",
       " 'tc',\n",
       " 'modis',\n",
       " 'tc',\n",
       " 'SSEBop',\n",
       " 'openet',\n",
       " 'modis',\n",
       " 'modis',\n",
       " 'DisALEXI',\n",
       " 'SIMS']"
      ]
     },
     "execution_count": 6,
     "metadata": {},
     "output_type": "execute_result"
    }
   ],
   "source": [
    "sample_file_types = []\n",
    "for output_file in sample_dir_files:\n",
    "    sample_file_types.append(output_file.split(\"/\")[4].split(\"_\")[0])\n",
    "sample_file_types"
   ]
  },
  {
   "cell_type": "code",
   "execution_count": null,
   "id": "6a47b854",
   "metadata": {},
   "outputs": [],
   "source": []
  },
  {
   "cell_type": "code",
   "execution_count": 7,
   "id": "8789e4a6",
   "metadata": {},
   "outputs": [],
   "source": [
    "df = pd.DataFrame(np.array([sample_dir_files, sample_file_types]).T, columns=['file_loc', 'type'])"
   ]
  },
  {
   "cell_type": "code",
   "execution_count": 8,
   "id": "bb3ad257",
   "metadata": {},
   "outputs": [
    {
     "name": "stdout",
     "output_type": "stream",
     "text": [
      "<class 'pandas.core.frame.DataFrame'>\n",
      "RangeIndex: 75 entries, 0 to 74\n",
      "Data columns (total 2 columns):\n",
      " #   Column    Non-Null Count  Dtype \n",
      "---  ------    --------------  ----- \n",
      " 0   file_loc  75 non-null     object\n",
      " 1   type      75 non-null     object\n",
      "dtypes: object(2)\n",
      "memory usage: 1.3+ KB\n"
     ]
    }
   ],
   "source": [
    "df.info()"
   ]
  },
  {
   "cell_type": "code",
   "execution_count": 9,
   "id": "fdc1059e",
   "metadata": {},
   "outputs": [],
   "source": [
    "unique_types = sorted(df['type'].unique())"
   ]
  },
  {
   "cell_type": "code",
   "execution_count": 12,
   "id": "c5182058",
   "metadata": {},
   "outputs": [
    {
     "name": "stdout",
     "output_type": "stream",
     "text": [
      "['DisALEXI', 'PT-JPL', 'SIMS', 'SSEBop', 'eeMETRIC', 'geeSEBAL', 'modis', 'openet', 'tc']\n"
     ]
    }
   ],
   "source": [
    "print(unique_types)"
   ]
  },
  {
   "cell_type": "code",
   "execution_count": 10,
   "id": "b7b81d40",
   "metadata": {},
   "outputs": [],
   "source": [
    "df_one_type = df[df['type']==unique_types[0]]"
   ]
  },
  {
   "cell_type": "code",
   "execution_count": 11,
   "id": "f9ebb99a",
   "metadata": {},
   "outputs": [
    {
     "name": "stdout",
     "output_type": "stream",
     "text": [
      "<class 'pandas.core.frame.DataFrame'>\n",
      "Int64Index: 5 entries, 19 to 73\n",
      "Data columns (total 2 columns):\n",
      " #   Column    Non-Null Count  Dtype \n",
      "---  ------    --------------  ----- \n",
      " 0   file_loc  5 non-null      object\n",
      " 1   type      5 non-null      object\n",
      "dtypes: object(2)\n",
      "memory usage: 120.0+ bytes\n",
      "DisALEXI\n"
     ]
    }
   ],
   "source": [
    "df_one_type.info()\n",
    "print(unique_types[0])"
   ]
  },
  {
   "cell_type": "code",
   "execution_count": 41,
   "id": "9c96f991",
   "metadata": {},
   "outputs": [
    {
     "data": {
      "text/html": [
       "<div>\n",
       "<style scoped>\n",
       "    .dataframe tbody tr th:only-of-type {\n",
       "        vertical-align: middle;\n",
       "    }\n",
       "\n",
       "    .dataframe tbody tr th {\n",
       "        vertical-align: top;\n",
       "    }\n",
       "\n",
       "    .dataframe thead th {\n",
       "        text-align: right;\n",
       "    }\n",
       "</style>\n",
       "<table border=\"1\" class=\"dataframe\">\n",
       "  <thead>\n",
       "    <tr style=\"text-align: right;\">\n",
       "      <th></th>\n",
       "      <th>file_loc</th>\n",
       "      <th>type</th>\n",
       "    </tr>\n",
       "  </thead>\n",
       "  <tbody>\n",
       "    <tr>\n",
       "      <th>1</th>\n",
       "      <td>../data/gsa_et/61/modis_2018-01-01.csv</td>\n",
       "      <td>modis</td>\n",
       "    </tr>\n",
       "    <tr>\n",
       "      <th>3</th>\n",
       "      <td>../data/gsa_et/61/modis_2020-01-01.csv</td>\n",
       "      <td>modis</td>\n",
       "    </tr>\n",
       "    <tr>\n",
       "      <th>4</th>\n",
       "      <td>../data/gsa_et/61/modis_2001-01-01.csv</td>\n",
       "      <td>modis</td>\n",
       "    </tr>\n",
       "    <tr>\n",
       "      <th>5</th>\n",
       "      <td>../data/gsa_et/61/modis_2015-01-01.csv</td>\n",
       "      <td>modis</td>\n",
       "    </tr>\n",
       "    <tr>\n",
       "      <th>9</th>\n",
       "      <td>../data/gsa_et/61/modis_2007-01-01.csv</td>\n",
       "      <td>modis</td>\n",
       "    </tr>\n",
       "    <tr>\n",
       "      <th>11</th>\n",
       "      <td>../data/gsa_et/61/modis_2013-01-01.csv</td>\n",
       "      <td>modis</td>\n",
       "    </tr>\n",
       "    <tr>\n",
       "      <th>12</th>\n",
       "      <td>../data/gsa_et/61/modis_2019-01-01.csv</td>\n",
       "      <td>modis</td>\n",
       "    </tr>\n",
       "    <tr>\n",
       "      <th>15</th>\n",
       "      <td>../data/gsa_et/61/modis_2014-01-01.csv</td>\n",
       "      <td>modis</td>\n",
       "    </tr>\n",
       "    <tr>\n",
       "      <th>20</th>\n",
       "      <td>../data/gsa_et/61/modis_2012-01-01.csv</td>\n",
       "      <td>modis</td>\n",
       "    </tr>\n",
       "    <tr>\n",
       "      <th>21</th>\n",
       "      <td>../data/gsa_et/61/modis_2006-01-01.csv</td>\n",
       "      <td>modis</td>\n",
       "    </tr>\n",
       "    <tr>\n",
       "      <th>27</th>\n",
       "      <td>../data/gsa_et/61/modis_2003-01-01.csv</td>\n",
       "      <td>modis</td>\n",
       "    </tr>\n",
       "    <tr>\n",
       "      <th>28</th>\n",
       "      <td>../data/gsa_et/61/modis_2017-01-01.csv</td>\n",
       "      <td>modis</td>\n",
       "    </tr>\n",
       "    <tr>\n",
       "      <th>29</th>\n",
       "      <td>../data/gsa_et/61/modis_2008-01-01.csv</td>\n",
       "      <td>modis</td>\n",
       "    </tr>\n",
       "    <tr>\n",
       "      <th>33</th>\n",
       "      <td>../data/gsa_et/61/modis_2005-01-01.csv</td>\n",
       "      <td>modis</td>\n",
       "    </tr>\n",
       "    <tr>\n",
       "      <th>34</th>\n",
       "      <td>../data/gsa_et/61/modis_2011-01-01.csv</td>\n",
       "      <td>modis</td>\n",
       "    </tr>\n",
       "    <tr>\n",
       "      <th>36</th>\n",
       "      <td>../data/gsa_et/61/modis_2016-01-01.csv</td>\n",
       "      <td>modis</td>\n",
       "    </tr>\n",
       "    <tr>\n",
       "      <th>38</th>\n",
       "      <td>../data/gsa_et/61/modis_2002-01-01.csv</td>\n",
       "      <td>modis</td>\n",
       "    </tr>\n",
       "    <tr>\n",
       "      <th>40</th>\n",
       "      <td>../data/gsa_et/61/modis_2009-01-01.csv</td>\n",
       "      <td>modis</td>\n",
       "    </tr>\n",
       "    <tr>\n",
       "      <th>43</th>\n",
       "      <td>../data/gsa_et/61/modis_2010-01-01.csv</td>\n",
       "      <td>modis</td>\n",
       "    </tr>\n",
       "    <tr>\n",
       "      <th>44</th>\n",
       "      <td>../data/gsa_et/61/modis_2004-01-01.csv</td>\n",
       "      <td>modis</td>\n",
       "    </tr>\n",
       "  </tbody>\n",
       "</table>\n",
       "</div>"
      ],
      "text/plain": [
       "                                  file_loc   type\n",
       "1   ../data/gsa_et/61/modis_2018-01-01.csv  modis\n",
       "3   ../data/gsa_et/61/modis_2020-01-01.csv  modis\n",
       "4   ../data/gsa_et/61/modis_2001-01-01.csv  modis\n",
       "5   ../data/gsa_et/61/modis_2015-01-01.csv  modis\n",
       "9   ../data/gsa_et/61/modis_2007-01-01.csv  modis\n",
       "11  ../data/gsa_et/61/modis_2013-01-01.csv  modis\n",
       "12  ../data/gsa_et/61/modis_2019-01-01.csv  modis\n",
       "15  ../data/gsa_et/61/modis_2014-01-01.csv  modis\n",
       "20  ../data/gsa_et/61/modis_2012-01-01.csv  modis\n",
       "21  ../data/gsa_et/61/modis_2006-01-01.csv  modis\n",
       "27  ../data/gsa_et/61/modis_2003-01-01.csv  modis\n",
       "28  ../data/gsa_et/61/modis_2017-01-01.csv  modis\n",
       "29  ../data/gsa_et/61/modis_2008-01-01.csv  modis\n",
       "33  ../data/gsa_et/61/modis_2005-01-01.csv  modis\n",
       "34  ../data/gsa_et/61/modis_2011-01-01.csv  modis\n",
       "36  ../data/gsa_et/61/modis_2016-01-01.csv  modis\n",
       "38  ../data/gsa_et/61/modis_2002-01-01.csv  modis\n",
       "40  ../data/gsa_et/61/modis_2009-01-01.csv  modis\n",
       "43  ../data/gsa_et/61/modis_2010-01-01.csv  modis\n",
       "44  ../data/gsa_et/61/modis_2004-01-01.csv  modis"
      ]
     },
     "execution_count": 41,
     "metadata": {},
     "output_type": "execute_result"
    }
   ],
   "source": [
    "df_one_type"
   ]
  },
  {
   "cell_type": "code",
   "execution_count": 13,
   "id": "bc071e7a",
   "metadata": {},
   "outputs": [
    {
     "ename": "NameError",
     "evalue": "name 'new_df' is not defined",
     "output_type": "error",
     "traceback": [
      "\u001b[0;31m---------------------------------------------------------------------------\u001b[0m",
      "\u001b[0;31mNameError\u001b[0m                                 Traceback (most recent call last)",
      "\u001b[0;32m<ipython-input-13-76a35048c15a>\u001b[0m in \u001b[0;36m<module>\u001b[0;34m\u001b[0m\n\u001b[1;32m      4\u001b[0m         \u001b[0mtc_df\u001b[0m \u001b[0;34m=\u001b[0m \u001b[0mpd\u001b[0m\u001b[0;34m.\u001b[0m\u001b[0mread_csv\u001b[0m\u001b[0;34m(\u001b[0m\u001b[0mfile_names_array\u001b[0m\u001b[0;34m[\u001b[0m\u001b[0mi\u001b[0m\u001b[0;34m]\u001b[0m\u001b[0;34m)\u001b[0m\u001b[0;34m\u001b[0m\u001b[0;34m\u001b[0m\u001b[0m\n\u001b[1;32m      5\u001b[0m     \u001b[0mtemp_df\u001b[0m \u001b[0;34m=\u001b[0m \u001b[0mpd\u001b[0m\u001b[0;34m.\u001b[0m\u001b[0mread_csv\u001b[0m\u001b[0;34m(\u001b[0m\u001b[0mfile_names_array\u001b[0m\u001b[0;34m[\u001b[0m\u001b[0mi\u001b[0m\u001b[0;34m]\u001b[0m\u001b[0;34m)\u001b[0m\u001b[0;34m\u001b[0m\u001b[0;34m\u001b[0m\u001b[0m\n\u001b[0;32m----> 6\u001b[0;31m     \u001b[0mtc_df\u001b[0m \u001b[0;34m=\u001b[0m \u001b[0mpd\u001b[0m\u001b[0;34m.\u001b[0m\u001b[0mconcat\u001b[0m\u001b[0;34m(\u001b[0m\u001b[0;34m[\u001b[0m\u001b[0mnew_df\u001b[0m\u001b[0;34m,\u001b[0m \u001b[0mtemp_df\u001b[0m\u001b[0;34m]\u001b[0m\u001b[0;34m,\u001b[0m \u001b[0maxis\u001b[0m\u001b[0;34m=\u001b[0m\u001b[0;36m0\u001b[0m\u001b[0;34m)\u001b[0m\u001b[0;34m\u001b[0m\u001b[0;34m\u001b[0m\u001b[0m\n\u001b[0m",
      "\u001b[0;31mNameError\u001b[0m: name 'new_df' is not defined"
     ]
    }
   ],
   "source": [
    "file_names_array = np.array(df_one_type['file_loc'])\n",
    "for i in range(len(file_names_array)):\n",
    "    if i == 0:\n",
    "        tc_df = pd.read_csv(file_names_array[i])\n",
    "    temp_df = pd.read_csv(file_names_array[i])\n",
    "    tc_df = pd.concat([new_df, temp_df], axis=0)"
   ]
  },
  {
   "cell_type": "code",
   "execution_count": 14,
   "id": "2efebc87",
   "metadata": {},
   "outputs": [
    {
     "name": "stdout",
     "output_type": "stream",
     "text": [
      "<class 'pandas.core.frame.DataFrame'>\n",
      "RangeIndex: 12 entries, 0 to 11\n",
      "Data columns (total 3 columns):\n",
      " #   Column       Non-Null Count  Dtype  \n",
      "---  ------       --------------  -----  \n",
      " 0   time         12 non-null     object \n",
      " 1   spatial_ref  12 non-null     int64  \n",
      " 2   DisALEXI_ET  12 non-null     float64\n",
      "dtypes: float64(1), int64(1), object(1)\n",
      "memory usage: 416.0+ bytes\n"
     ]
    }
   ],
   "source": [
    "tc_df.info()"
   ]
  },
  {
   "cell_type": "code",
   "execution_count": 42,
   "id": "c1015eca",
   "metadata": {},
   "outputs": [
    {
     "name": "stdout",
     "output_type": "stream",
     "text": [
      "openet\n"
     ]
    }
   ],
   "source": [
    "df_one_type = df[df['type']==unique_types[1]]\n",
    "print(unique_types[1])"
   ]
  },
  {
   "cell_type": "code",
   "execution_count": 15,
   "id": "0a35665f",
   "metadata": {},
   "outputs": [
    {
     "ename": "NameError",
     "evalue": "name 'new_df' is not defined",
     "output_type": "error",
     "traceback": [
      "\u001b[0;31m---------------------------------------------------------------------------\u001b[0m",
      "\u001b[0;31mNameError\u001b[0m                                 Traceback (most recent call last)",
      "\u001b[0;32m<ipython-input-15-7183d176767b>\u001b[0m in \u001b[0;36m<module>\u001b[0;34m\u001b[0m\n\u001b[1;32m      4\u001b[0m         \u001b[0mopenet_df\u001b[0m \u001b[0;34m=\u001b[0m \u001b[0mpd\u001b[0m\u001b[0;34m.\u001b[0m\u001b[0mread_csv\u001b[0m\u001b[0;34m(\u001b[0m\u001b[0mfile_names_array\u001b[0m\u001b[0;34m[\u001b[0m\u001b[0mi\u001b[0m\u001b[0;34m]\u001b[0m\u001b[0;34m)\u001b[0m\u001b[0;34m\u001b[0m\u001b[0;34m\u001b[0m\u001b[0m\n\u001b[1;32m      5\u001b[0m     \u001b[0mtemp_df\u001b[0m \u001b[0;34m=\u001b[0m \u001b[0mpd\u001b[0m\u001b[0;34m.\u001b[0m\u001b[0mread_csv\u001b[0m\u001b[0;34m(\u001b[0m\u001b[0mfile_names_array\u001b[0m\u001b[0;34m[\u001b[0m\u001b[0mi\u001b[0m\u001b[0;34m]\u001b[0m\u001b[0;34m)\u001b[0m\u001b[0;34m\u001b[0m\u001b[0;34m\u001b[0m\u001b[0m\n\u001b[0;32m----> 6\u001b[0;31m     \u001b[0mopenet_df\u001b[0m \u001b[0;34m=\u001b[0m \u001b[0mpd\u001b[0m\u001b[0;34m.\u001b[0m\u001b[0mconcat\u001b[0m\u001b[0;34m(\u001b[0m\u001b[0;34m[\u001b[0m\u001b[0mnew_df\u001b[0m\u001b[0;34m,\u001b[0m \u001b[0mtemp_df\u001b[0m\u001b[0;34m]\u001b[0m\u001b[0;34m,\u001b[0m \u001b[0maxis\u001b[0m\u001b[0;34m=\u001b[0m\u001b[0;36m0\u001b[0m\u001b[0;34m)\u001b[0m\u001b[0;34m\u001b[0m\u001b[0;34m\u001b[0m\u001b[0m\n\u001b[0m",
      "\u001b[0;31mNameError\u001b[0m: name 'new_df' is not defined"
     ]
    }
   ],
   "source": [
    "file_names_array = np.array(df_one_type['file_loc'])\n",
    "for i in range(len(file_names_array)):\n",
    "    if i == 0:\n",
    "        openet_df = pd.read_csv(file_names_array[i])\n",
    "    temp_df = pd.read_csv(file_names_array[i])\n",
    "    openet_df = pd.concat([new_df, temp_df], axis=0)"
   ]
  },
  {
   "cell_type": "code",
   "execution_count": 44,
   "id": "ffb62720",
   "metadata": {},
   "outputs": [
    {
     "name": "stdout",
     "output_type": "stream",
     "text": [
      "modis\n",
      "openet\n",
      "tc\n"
     ]
    }
   ],
   "source": [
    "unique_types = sorted(df['type'].unique())\n",
    "for j in range(len(unique_types)):\n",
    "    print(unique_types[j])"
   ]
  },
  {
   "cell_type": "code",
   "execution_count": 60,
   "id": "23736952",
   "metadata": {},
   "outputs": [
    {
     "name": "stdout",
     "output_type": "stream",
     "text": [
      "<class 'pandas.core.frame.DataFrame'>\n",
      "DatetimeIndex: 1104 entries, 2018-01-01 to NaT\n",
      "Data columns (total 8 columns):\n",
      " #   Column               Non-Null Count  Dtype         \n",
      "---  ------               --------------  -----         \n",
      " 0   time                 1104 non-null   datetime64[ns]\n",
      " 1   ET                   913 non-null    float64       \n",
      " 2   PET                  913 non-null    float64       \n",
      " 3   et_ensemble_mad      60 non-null     float64       \n",
      " 4   et_ensemble_mad_min  60 non-null     float64       \n",
      " 5   et_ensemble_mad_max  60 non-null     float64       \n",
      " 6   aet                  240 non-null    float64       \n",
      " 7   pet                  240 non-null    float64       \n",
      "dtypes: datetime64[ns](1), float64(7)\n",
      "memory usage: 77.6 KB\n",
      "None\n"
     ]
    }
   ],
   "source": [
    "unique_types = sorted(df['type'].unique())\n",
    "for j in range(len(unique_types)):\n",
    "    df_one_type = df[df['type']==unique_types[j]]\n",
    "    file_names_array = np.array(df_one_type['file_loc'])\n",
    "    for i in range(len(file_names_array)):\n",
    "        if i == 0:\n",
    "            cols = list(pd.read_csv(file_names_array[i], nrows=1))\n",
    "            new_df = pd.read_csv(file_names_array[i], parse_dates=['time'], usecols=[i for i in cols if i != \"spatial_ref\"])\n",
    "            new_df = new_df.set_index('time')\n",
    "        else:\n",
    "            cols = list(pd.read_csv(file_names_array[i], nrows=1))\n",
    "            temp_df = pd.read_csv(file_names_array[i], parse_dates=['time'], usecols=[i for i in cols if i != \"spatial_ref\"])\n",
    "            temp_df = temp_df.set_index('time')\n",
    "            new_df = pd.concat([new_df, temp_df], axis=0)\n",
    "    if j == 0:\n",
    "        final_df = new_df.copy(deep=True)\n",
    "    else:\n",
    "        final_df = final_df.join(new_df, on='time', how='outer')\n",
    "final_df.to_csv('')\n",
    "\n",
    "        \n"
   ]
  },
  {
   "cell_type": "code",
   "execution_count": 46,
   "id": "a6c0a400",
   "metadata": {},
   "outputs": [
    {
     "name": "stdout",
     "output_type": "stream",
     "text": [
      "<class 'pandas.core.frame.DataFrame'>\n",
      "Int64Index: 965 entries, 0 to 45\n",
      "Data columns (total 4 columns):\n",
      " #   Column       Non-Null Count  Dtype  \n",
      "---  ------       --------------  -----  \n",
      " 0   time         965 non-null    object \n",
      " 1   spatial_ref  965 non-null    int64  \n",
      " 2   ET           959 non-null    float64\n",
      " 3   PET          959 non-null    float64\n",
      "dtypes: float64(2), int64(1), object(1)\n",
      "memory usage: 37.7+ KB\n",
      "None\n"
     ]
    }
   ],
   "source": [
    "print(final_df.info())"
   ]
  },
  {
   "cell_type": "code",
   "execution_count": 3,
   "id": "60638cb0",
   "metadata": {},
   "outputs": [
    {
     "name": "stdout",
     "output_type": "stream",
     "text": [
      "42\n"
     ]
    }
   ],
   "source": [
    "output_dirs = glob.glob(\"../data/gsa_et_gsp_take_2/*\")\n",
    "output_dirs = [\"../data/gsa_et_gsp_take_2/42\"]\n",
    "for output_dir in output_dirs:\n",
    "    gsa_id = output_dir.split(\"/\")[3]\n",
    "    print(gsa_id)\n",
    "    sample_dir_files = glob.glob(output_dir + '/*')\n",
    "    sample_file_types = []\n",
    "    for output_file in sample_dir_files:\n",
    "        sample_file_types.append(output_file.split(\"/\")[4].split(\"_\")[0])\n",
    "    df = pd.DataFrame(np.array([sample_dir_files, sample_file_types]).T, columns=['file_loc', 'type'])\n",
    "    unique_types = sorted(df['type'].unique())\n",
    "    for j in range(len(unique_types)):\n",
    "        df_one_type = df[df['type']==unique_types[j]]\n",
    "        file_names_array = np.array(df_one_type['file_loc'])\n",
    "        for i in range(len(file_names_array)):\n",
    "            if i == 0:\n",
    "                cols = list(pd.read_csv(file_names_array[i], nrows=1))\n",
    "                new_df = pd.read_csv(file_names_array[i], parse_dates=['time'], \n",
    "                                     index_col = 'time', usecols=[i for i in cols if i != \"spatial_ref\"])\n",
    "            else:\n",
    "                cols = list(pd.read_csv(file_names_array[i], nrows=1))\n",
    "                temp_df = pd.read_csv(file_names_array[i], parse_dates=['time'], \n",
    "                                      index_col='time', usecols=[i for i in cols if i != \"spatial_ref\"])\n",
    "                new_df = pd.concat([new_df, temp_df], axis=0)\n",
    "        if j == 0:\n",
    "            final_df = new_df.copy(deep=True)\n",
    "        else:\n",
    "            final_df = final_df.join(new_df, on='time', how='outer')\n",
    "    final_df = final_df.sort_values('time')\n",
    "    #final_df = final_df.rename({'ET': 'modis_aet', 'PET': 'modis_pet', 'aet': 'tc_aet', 'pet':'tc_pet'}, axis=1)\n",
    "    final_df.to_csv('../data/gsa_et_gsp_take_2_compiled/'+'gsa_et_'+gsa_id+'.csv')"
   ]
  },
  {
   "cell_type": "code",
   "execution_count": 2,
   "id": "6735da8e",
   "metadata": {},
   "outputs": [],
   "source": [
    "current_dirs = glob.glob(\"../data/gsa_et_gsp_take_2_compiled/*\")"
   ]
  },
  {
   "cell_type": "code",
   "execution_count": 3,
   "id": "be188ce8-f438-4b96-97fe-ff89c4bfbf0c",
   "metadata": {},
   "outputs": [
    {
     "data": {
      "text/plain": [
       "['../data/gsa_et_gsp_take_2_compiled/gsa_et_25.csv',\n",
       " '../data/gsa_et_gsp_take_2_compiled/gsa_et_31.csv',\n",
       " '../data/gsa_et_gsp_take_2_compiled/gsa_et_30.csv',\n",
       " '../data/gsa_et_gsp_take_2_compiled/gsa_et_24.csv',\n",
       " '../data/gsa_et_gsp_take_2_compiled/gsa_et_26.csv',\n",
       " '../data/gsa_et_gsp_take_2_compiled/gsa_et_150.csv',\n",
       " '../data/gsa_et_gsp_take_2_compiled/gsa_et_145.csv',\n",
       " '../data/gsa_et_gsp_take_2_compiled/gsa_et_37.csv',\n",
       " '../data/gsa_et_gsp_take_2_compiled/gsa_et_23.csv',\n",
       " '../data/gsa_et_gsp_take_2_compiled/gsa_et_140.csv',\n",
       " '../data/gsa_et_gsp_take_2_compiled/gsa_et_22.csv',\n",
       " '../data/gsa_et_gsp_take_2_compiled/gsa_et_36.csv',\n",
       " '../data/gsa_et_gsp_take_2_compiled/gsa_et_20.csv',\n",
       " '../data/gsa_et_gsp_take_2_compiled/gsa_et_21.csv',\n",
       " '../data/gsa_et_gsp_take_2_compiled/gsa_et_85.csv',\n",
       " '../data/gsa_et_gsp_take_2_compiled/gsa_et_52.csv',\n",
       " '../data/gsa_et_gsp_take_2_compiled/gsa_et_53.csv',\n",
       " '../data/gsa_et_gsp_take_2_compiled/gsa_et_47.csv',\n",
       " '../data/gsa_et_gsp_take_2_compiled/gsa_et_92.csv',\n",
       " '../data/gsa_et_gsp_take_2_compiled/gsa_et_86.csv',\n",
       " '../data/gsa_et_gsp_take_2_compiled/gsa_et_51.csv',\n",
       " '../data/gsa_et_gsp_take_2_compiled/gsa_et_45.csv',\n",
       " '../data/gsa_et_gsp_take_2_compiled/gsa_et_7.csv',\n",
       " '../data/gsa_et_gsp_take_2_compiled/gsa_et_44.csv',\n",
       " '../data/gsa_et_gsp_take_2_compiled/gsa_et_50.csv',\n",
       " '../data/gsa_et_gsp_take_2_compiled/gsa_et_83.csv',\n",
       " '../data/gsa_et_gsp_take_2_compiled/gsa_et_54.csv',\n",
       " '../data/gsa_et_gsp_take_2_compiled/gsa_et_122.csv',\n",
       " '../data/gsa_et_gsp_take_2_compiled/gsa_et_123.csv',\n",
       " '../data/gsa_et_gsp_take_2_compiled/gsa_et_137.csv',\n",
       " '../data/gsa_et_gsp_take_2_compiled/gsa_et_82.csv',\n",
       " '../data/gsa_et_gsp_take_2_compiled/gsa_et_96.csv',\n",
       " '../data/gsa_et_gsp_take_2_compiled/gsa_et_94.csv',\n",
       " '../data/gsa_et_gsp_take_2_compiled/gsa_et_43.csv',\n",
       " '../data/gsa_et_gsp_take_2_compiled/gsa_et_57.csv',\n",
       " '../data/gsa_et_gsp_take_2_compiled/gsa_et_134.csv',\n",
       " '../data/gsa_et_gsp_take_2_compiled/gsa_et_120.csv',\n",
       " '../data/gsa_et_gsp_take_2_compiled/gsa_et_56.csv',\n",
       " '../data/gsa_et_gsp_take_2_compiled/gsa_et_42.csv',\n",
       " '../data/gsa_et_gsp_take_2_compiled/gsa_et_98.csv',\n",
       " '../data/gsa_et_gsp_take_2_compiled/gsa_et_111.csv',\n",
       " '../data/gsa_et_gsp_take_2_compiled/gsa_et_139.csv',\n",
       " '../data/gsa_et_gsp_take_2_compiled/gsa_et_110.csv',\n",
       " '../data/gsa_et_gsp_take_2_compiled/gsa_et_99.csv',\n",
       " '../data/gsa_et_gsp_take_2_compiled/gsa_et_58.csv',\n",
       " '../data/gsa_et_gsp_take_2_compiled/gsa_et_112.csv',\n",
       " '../data/gsa_et_gsp_take_2_compiled/gsa_et_106.csv',\n",
       " '../data/gsa_et_gsp_take_2_compiled/gsa_et_65.csv',\n",
       " '../data/gsa_et_gsp_take_2_compiled/gsa_et_61.csv',\n",
       " '../data/gsa_et_gsp_take_2_compiled/gsa_et_49.csv',\n",
       " '../data/gsa_et_gsp_take_2_compiled/gsa_et_117.csv',\n",
       " '../data/gsa_et_gsp_take_2_compiled/gsa_et_48.csv',\n",
       " '../data/gsa_et_gsp_take_2_compiled/gsa_et_100.csv',\n",
       " '../data/gsa_et_gsp_take_2_compiled/gsa_et_9.csv',\n",
       " '../data/gsa_et_gsp_take_2_compiled/gsa_et_8.csv',\n",
       " '../data/gsa_et_gsp_take_2_compiled/gsa_et_63.csv',\n",
       " '../data/gsa_et_gsp_take_2_compiled/gsa_et_38.csv',\n",
       " '../data/gsa_et_gsp_take_2_compiled/gsa_et_13.csv',\n",
       " '../data/gsa_et_gsp_take_2_compiled/gsa_et_12.csv',\n",
       " '../data/gsa_et_gsp_take_2_compiled/gsa_et_15.csv',\n",
       " '../data/gsa_et_gsp_take_2_compiled/gsa_et_28.csv',\n",
       " '../data/gsa_et_gsp_take_2_compiled/gsa_et_14.csv']"
      ]
     },
     "execution_count": 3,
     "metadata": {},
     "output_type": "execute_result"
    }
   ],
   "source": [
    "current_dirs"
   ]
  },
  {
   "cell_type": "code",
   "execution_count": 4,
   "id": "6801eb0d-3b8f-4cb4-820a-ea163cdc107b",
   "metadata": {},
   "outputs": [],
   "source": [
    "new_dirs = glob.glob(\"../data/gsa_et_gsp_take_3/*\")\n"
   ]
  },
  {
   "cell_type": "code",
   "execution_count": 8,
   "id": "2b0935da-5318-47ac-84d6-083bb085b2ee",
   "metadata": {},
   "outputs": [
    {
     "name": "stdout",
     "output_type": "stream",
     "text": [
      "61\n",
      "92\n",
      "50\n",
      "57\n",
      "150\n",
      "56\n",
      "51\n",
      "58\n",
      "134\n",
      "94\n",
      "20\n",
      "9\n",
      "145\n",
      "7\n",
      "42\n",
      "45\n",
      "111\n",
      "120\n",
      "28\n",
      "26\n",
      "8\n",
      "21\n",
      "86\n",
      "44\n",
      "110\n",
      "43\n",
      "117\n",
      "38\n",
      "36\n",
      "31\n",
      "65\n",
      "96\n",
      "100\n",
      "54\n",
      "98\n",
      "53\n",
      "30\n",
      "37\n",
      "106\n",
      "99\n",
      "52\n",
      "139\n",
      "137\n",
      "63\n",
      "112\n",
      "83\n",
      "123\n",
      "48\n",
      "24\n",
      "23\n",
      "15\n",
      "12\n",
      "85\n",
      "82\n",
      "49\n",
      "122\n",
      "47\n",
      "13\n",
      "140\n",
      "14\n",
      "22\n",
      "25\n"
     ]
    }
   ],
   "source": [
    "current_dirs = glob.glob(\"../data/gsa_et_gsp_take_2_compiled/*\")\n",
    "new_dirs = glob.glob(\"../data/gsa_et_gsp_take_3/*\")\n",
    "for new_dir in new_dirs:\n",
    "    gsa_id = new_dir.split(\"/\")[3]\n",
    "    files = glob.glob(new_dir + '/*')\n",
    "    print(gsa_id)\n",
    "    for i in range(len(files)):\n",
    "            if i == 0:\n",
    "                cols = list(pd.read_csv(files[i], nrows=1))\n",
    "                new_df = pd.read_csv(files[i], parse_dates=['time'], \n",
    "                                     index_col = 'time', usecols=[i for i in cols if i != \"spatial_ref\"])\n",
    "            else:\n",
    "                cols = list(pd.read_csv(files[i], nrows=1))\n",
    "                temp_df = pd.read_csv(files[i], parse_dates=['time'], \n",
    "                                      index_col='time', usecols=[i for i in cols if i != \"spatial_ref\"])\n",
    "                new_df = pd.concat([new_df, temp_df], axis=0)\n",
    "    old_df = pd.read_csv(\"../data/gsa_et_gsp_take_2_compiled/gsa_et_\"+gsa_id+\".csv\", parse_dates=['time'], index_col='time')\n",
    "    merged_df = pd.merge(old_df, new_df, left_index=True, right_index=True)\n",
    "    \n",
    "    merged_df.to_csv(\"../data/gsa_et_gsp_take_3_compiled/gsa_et_\"+gsa_id+\".csv\")\n",
    "    "
   ]
  },
  {
   "cell_type": "code",
   "execution_count": null,
   "id": "ee66952a-766a-4b02-b030-2bbc5c8723ad",
   "metadata": {},
   "outputs": [],
   "source": []
  }
 ],
 "metadata": {
  "kernelspec": {
   "display_name": "Python 3",
   "language": "python",
   "name": "python3"
  },
  "language_info": {
   "codemirror_mode": {
    "name": "ipython",
    "version": 3
   },
   "file_extension": ".py",
   "mimetype": "text/x-python",
   "name": "python",
   "nbconvert_exporter": "python",
   "pygments_lexer": "ipython3",
   "version": "3.6.15"
  }
 },
 "nbformat": 4,
 "nbformat_minor": 5
}
