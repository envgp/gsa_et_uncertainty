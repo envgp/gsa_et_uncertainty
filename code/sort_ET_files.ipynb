{
 "cells": [
  {
   "cell_type": "code",
   "execution_count": 1,
   "id": "079da45a",
   "metadata": {},
   "outputs": [],
   "source": [
    "import numpy as np\n",
    "import pandas as pd\n",
    "import glob\n",
    "import geopandas as gp\n"
   ]
  },
  {
   "cell_type": "code",
   "execution_count": 2,
   "id": "ea6c02d2",
   "metadata": {},
   "outputs": [],
   "source": [
    "output_dir = \"../data/gsa_et/\"\n",
    "# Load GSAs shapefile and clean them so we only have \"large GSAs\"\n",
    "gsa_shape = gp.read_file(\n",
    "    \"../shape/i03_Groundwater_Sustainability_Agencies_MapService.shp\"\n",
    ")\n",
    "cv_shape = gp.read_file(\"../shape/Alluvial_Bnd.shp\")\n",
    "cv_shape.to_crs(3310, inplace=True)\n",
    "gsa_shape.to_crs(3310, inplace=True)\n",
    "cv_shape[\"geometry\"] = cv_shape.geometry.buffer(10000)\n",
    "gsa_cv = gsa_shape.within(cv_shape.loc[0, \"geometry\"])\n",
    "gsa_cv = gsa_shape.loc[gsa_cv]\n",
    "gsa_cv_cleaned_no_small = gsa_cv[gsa_cv[\"ShapeSTAre\"] > 4e8]\n",
    "gsa_names = []\n",
    "gsa_ids = []"
   ]
  },
  {
   "cell_type": "code",
   "execution_count": 3,
   "id": "9f73a218",
   "metadata": {},
   "outputs": [],
   "source": [
    "output_dirs = glob.glob(\"../data/gsa_et/*\")"
   ]
  },
  {
   "cell_type": "code",
   "execution_count": 4,
   "id": "e98d136b",
   "metadata": {},
   "outputs": [
    {
     "data": {
      "text/plain": [
       "['../data/gsa_et/61',\n",
       " '../data/gsa_et/159',\n",
       " '../data/gsa_et/192',\n",
       " '../data/gsa_et/69',\n",
       " '../data/gsa_et/306',\n",
       " '../data/gsa_et/160',\n",
       " '../data/gsa_et/211',\n",
       " '../data/gsa_et/218',\n",
       " '../data/gsa_et/287',\n",
       " '../data/gsa_et/413',\n",
       " '../data/gsa_et/484',\n",
       " '../data/gsa_et/226',\n",
       " '../data/gsa_et/219',\n",
       " '../data/gsa_et/217',\n",
       " '../data/gsa_et/288',\n",
       " '../data/gsa_et/244',\n",
       " '../data/gsa_et/281',\n",
       " '../data/gsa_et/406',\n",
       " '../data/gsa_et/266',\n",
       " '../data/gsa_et/464',\n",
       " '../data/gsa_et/409',\n",
       " '../data/gsa_et/205',\n",
       " '../data/gsa_et/233',\n",
       " '../data/gsa_et/20',\n",
       " '../data/gsa_et/187',\n",
       " '../data/gsa_et/18',\n",
       " '../data/gsa_et/7',\n",
       " '../data/gsa_et/189',\n",
       " '../data/gsa_et/42',\n",
       " '../data/gsa_et/116',\n",
       " '../data/gsa_et/323',\n",
       " '../data/gsa_et/73',\n",
       " '../data/gsa_et/118',\n",
       " '../data/gsa_et/120',\n",
       " '../data/gsa_et/10',\n",
       " '../data/gsa_et/340',\n",
       " '../data/gsa_et/19',\n",
       " '../data/gsa_et/314',\n",
       " '../data/gsa_et/43',\n",
       " '../data/gsa_et/508',\n",
       " '../data/gsa_et/506',\n",
       " '../data/gsa_et/65',\n",
       " '../data/gsa_et/62',\n",
       " '../data/gsa_et/369',\n",
       " '../data/gsa_et/358',\n",
       " '../data/gsa_et/39',\n",
       " '../data/gsa_et/106',\n",
       " '../data/gsa_et/419',\n",
       " '../data/gsa_et/277',\n",
       " '../data/gsa_et/481',\n",
       " '../data/gsa_et/249',\n",
       " '../data/gsa_et/420',\n",
       " '../data/gsa_et/418',\n",
       " '../data/gsa_et/225',\n",
       " '../data/gsa_et/222',\n",
       " '../data/gsa_et/209',\n",
       " '../data/gsa_et/238',\n",
       " '../data/gsa_et/239',\n",
       " '../data/gsa_et/206',\n",
       " '../data/gsa_et/311',\n",
       " '../data/gsa_et/124',\n",
       " '../data/gsa_et/514',\n",
       " '../data/gsa_et/146',\n",
       " '../data/gsa_et/40',\n",
       " '../data/gsa_et/147']"
      ]
     },
     "execution_count": 4,
     "metadata": {},
     "output_type": "execute_result"
    }
   ],
   "source": [
    "output_dirs"
   ]
  },
  {
   "cell_type": "code",
   "execution_count": 7,
   "id": "bb4adc7e",
   "metadata": {},
   "outputs": [
    {
     "data": {
      "text/plain": [
       "['../data/gsa_et/61/tc_2017-01-01.csv',\n",
       " '../data/gsa_et/61/modis_2018-01-01.csv',\n",
       " '../data/gsa_et/61/tc_2003-01-01.csv',\n",
       " '../data/gsa_et/61/modis_2020-01-01.csv',\n",
       " '../data/gsa_et/61/modis_2001-01-01.csv',\n",
       " '../data/gsa_et/61/modis_2015-01-01.csv',\n",
       " '../data/gsa_et/61/tc_2011-01-01.csv',\n",
       " '../data/gsa_et/61/tc_2005-01-01.csv',\n",
       " '../data/gsa_et/61/openet_2019-01-01.csv',\n",
       " '../data/gsa_et/61/modis_2007-01-01.csv',\n",
       " '../data/gsa_et/61/tc_2008-01-01.csv',\n",
       " '../data/gsa_et/61/modis_2013-01-01.csv',\n",
       " '../data/gsa_et/61/modis_2019-01-01.csv',\n",
       " '../data/gsa_et/61/tc_2002-01-01.csv',\n",
       " '../data/gsa_et/61/tc_2016-01-01.csv',\n",
       " '../data/gsa_et/61/modis_2014-01-01.csv',\n",
       " '../data/gsa_et/61/tc_2004-01-01.csv',\n",
       " '../data/gsa_et/61/tc_2010-01-01.csv',\n",
       " '../data/gsa_et/61/openet_2018-01-01.csv',\n",
       " '../data/gsa_et/61/tc_2009-01-01.csv',\n",
       " '../data/gsa_et/61/modis_2012-01-01.csv',\n",
       " '../data/gsa_et/61/modis_2006-01-01.csv',\n",
       " '../data/gsa_et/61/openet_2020-01-01.csv',\n",
       " '../data/gsa_et/61/tc_2015-01-01.csv',\n",
       " '../data/gsa_et/61/tc_2001-01-01.csv',\n",
       " '../data/gsa_et/61/tc_2020-01-01.csv',\n",
       " '../data/gsa_et/61/tc_2018-01-01.csv',\n",
       " '../data/gsa_et/61/modis_2003-01-01.csv',\n",
       " '../data/gsa_et/61/modis_2017-01-01.csv',\n",
       " '../data/gsa_et/61/modis_2008-01-01.csv',\n",
       " '../data/gsa_et/61/tc_2013-01-01.csv',\n",
       " '../data/gsa_et/61/tc_2007-01-01.csv',\n",
       " '../data/gsa_et/61/openet_2016-01-01.csv',\n",
       " '../data/gsa_et/61/modis_2005-01-01.csv',\n",
       " '../data/gsa_et/61/modis_2011-01-01.csv',\n",
       " '../data/gsa_et/61/tc_2014-01-01.csv',\n",
       " '../data/gsa_et/61/modis_2016-01-01.csv',\n",
       " '../data/gsa_et/61/tc_2019-01-01.csv',\n",
       " '../data/gsa_et/61/modis_2002-01-01.csv',\n",
       " '../data/gsa_et/61/tc_2006-01-01.csv',\n",
       " '../data/gsa_et/61/modis_2009-01-01.csv',\n",
       " '../data/gsa_et/61/tc_2012-01-01.csv',\n",
       " '../data/gsa_et/61/openet_2017-01-01.csv',\n",
       " '../data/gsa_et/61/modis_2010-01-01.csv',\n",
       " '../data/gsa_et/61/modis_2004-01-01.csv']"
      ]
     },
     "execution_count": 7,
     "metadata": {},
     "output_type": "execute_result"
    }
   ],
   "source": [
    "sample_dir = output_dirs[0]\n",
    "sample_dir_files = glob.glob(output_dirs[0] + '/*')\n",
    "sample_dir_files"
   ]
  },
  {
   "cell_type": "code",
   "execution_count": 9,
   "id": "3eca60ef",
   "metadata": {},
   "outputs": [
    {
     "data": {
      "text/plain": [
       "['tc',\n",
       " 'modis',\n",
       " 'tc',\n",
       " 'modis',\n",
       " 'modis',\n",
       " 'modis',\n",
       " 'tc',\n",
       " 'tc',\n",
       " 'openet',\n",
       " 'modis',\n",
       " 'tc',\n",
       " 'modis',\n",
       " 'modis',\n",
       " 'tc',\n",
       " 'tc',\n",
       " 'modis',\n",
       " 'tc',\n",
       " 'tc',\n",
       " 'openet',\n",
       " 'tc',\n",
       " 'modis',\n",
       " 'modis',\n",
       " 'openet',\n",
       " 'tc',\n",
       " 'tc',\n",
       " 'tc',\n",
       " 'tc',\n",
       " 'modis',\n",
       " 'modis',\n",
       " 'modis',\n",
       " 'tc',\n",
       " 'tc',\n",
       " 'openet',\n",
       " 'modis',\n",
       " 'modis',\n",
       " 'tc',\n",
       " 'modis',\n",
       " 'tc',\n",
       " 'modis',\n",
       " 'tc',\n",
       " 'modis',\n",
       " 'tc',\n",
       " 'openet',\n",
       " 'modis',\n",
       " 'modis']"
      ]
     },
     "execution_count": 9,
     "metadata": {},
     "output_type": "execute_result"
    }
   ],
   "source": [
    "sample_file_types = []\n",
    "for output_file in sample_dir_files:\n",
    "    sample_file_types.append(output_file.split(\"/\")[4].split(\"_\")[0])\n",
    "sample_file_types"
   ]
  },
  {
   "cell_type": "code",
   "execution_count": null,
   "id": "6a47b854",
   "metadata": {},
   "outputs": [],
   "source": []
  },
  {
   "cell_type": "code",
   "execution_count": 10,
   "id": "8789e4a6",
   "metadata": {},
   "outputs": [],
   "source": [
    "df = pd.DataFrame(np.array([sample_dir_files, sample_file_types]).T, columns=['file_loc', 'type'])"
   ]
  },
  {
   "cell_type": "code",
   "execution_count": 11,
   "id": "bb3ad257",
   "metadata": {},
   "outputs": [
    {
     "name": "stdout",
     "output_type": "stream",
     "text": [
      "<class 'pandas.core.frame.DataFrame'>\n",
      "RangeIndex: 45 entries, 0 to 44\n",
      "Data columns (total 2 columns):\n",
      " #   Column    Non-Null Count  Dtype \n",
      "---  ------    --------------  ----- \n",
      " 0   file_loc  45 non-null     object\n",
      " 1   type      45 non-null     object\n",
      "dtypes: object(2)\n",
      "memory usage: 848.0+ bytes\n"
     ]
    }
   ],
   "source": [
    "df.info()"
   ]
  },
  {
   "cell_type": "code",
   "execution_count": 37,
   "id": "fdc1059e",
   "metadata": {},
   "outputs": [],
   "source": [
    "unique_types = sorted(df['type'].unique())"
   ]
  },
  {
   "cell_type": "code",
   "execution_count": 38,
   "id": "b7b81d40",
   "metadata": {},
   "outputs": [],
   "source": [
    "df_one_type = df[df['type']==unique_types[0]]"
   ]
  },
  {
   "cell_type": "code",
   "execution_count": 40,
   "id": "f9ebb99a",
   "metadata": {},
   "outputs": [
    {
     "name": "stdout",
     "output_type": "stream",
     "text": [
      "<class 'pandas.core.frame.DataFrame'>\n",
      "Int64Index: 20 entries, 1 to 44\n",
      "Data columns (total 2 columns):\n",
      " #   Column    Non-Null Count  Dtype \n",
      "---  ------    --------------  ----- \n",
      " 0   file_loc  20 non-null     object\n",
      " 1   type      20 non-null     object\n",
      "dtypes: object(2)\n",
      "memory usage: 480.0+ bytes\n",
      "modis\n"
     ]
    }
   ],
   "source": [
    "df_one_type.info()\n",
    "print(unique_types[0])"
   ]
  },
  {
   "cell_type": "code",
   "execution_count": 41,
   "id": "9c96f991",
   "metadata": {},
   "outputs": [
    {
     "data": {
      "text/html": [
       "<div>\n",
       "<style scoped>\n",
       "    .dataframe tbody tr th:only-of-type {\n",
       "        vertical-align: middle;\n",
       "    }\n",
       "\n",
       "    .dataframe tbody tr th {\n",
       "        vertical-align: top;\n",
       "    }\n",
       "\n",
       "    .dataframe thead th {\n",
       "        text-align: right;\n",
       "    }\n",
       "</style>\n",
       "<table border=\"1\" class=\"dataframe\">\n",
       "  <thead>\n",
       "    <tr style=\"text-align: right;\">\n",
       "      <th></th>\n",
       "      <th>file_loc</th>\n",
       "      <th>type</th>\n",
       "    </tr>\n",
       "  </thead>\n",
       "  <tbody>\n",
       "    <tr>\n",
       "      <th>1</th>\n",
       "      <td>../data/gsa_et/61/modis_2018-01-01.csv</td>\n",
       "      <td>modis</td>\n",
       "    </tr>\n",
       "    <tr>\n",
       "      <th>3</th>\n",
       "      <td>../data/gsa_et/61/modis_2020-01-01.csv</td>\n",
       "      <td>modis</td>\n",
       "    </tr>\n",
       "    <tr>\n",
       "      <th>4</th>\n",
       "      <td>../data/gsa_et/61/modis_2001-01-01.csv</td>\n",
       "      <td>modis</td>\n",
       "    </tr>\n",
       "    <tr>\n",
       "      <th>5</th>\n",
       "      <td>../data/gsa_et/61/modis_2015-01-01.csv</td>\n",
       "      <td>modis</td>\n",
       "    </tr>\n",
       "    <tr>\n",
       "      <th>9</th>\n",
       "      <td>../data/gsa_et/61/modis_2007-01-01.csv</td>\n",
       "      <td>modis</td>\n",
       "    </tr>\n",
       "    <tr>\n",
       "      <th>11</th>\n",
       "      <td>../data/gsa_et/61/modis_2013-01-01.csv</td>\n",
       "      <td>modis</td>\n",
       "    </tr>\n",
       "    <tr>\n",
       "      <th>12</th>\n",
       "      <td>../data/gsa_et/61/modis_2019-01-01.csv</td>\n",
       "      <td>modis</td>\n",
       "    </tr>\n",
       "    <tr>\n",
       "      <th>15</th>\n",
       "      <td>../data/gsa_et/61/modis_2014-01-01.csv</td>\n",
       "      <td>modis</td>\n",
       "    </tr>\n",
       "    <tr>\n",
       "      <th>20</th>\n",
       "      <td>../data/gsa_et/61/modis_2012-01-01.csv</td>\n",
       "      <td>modis</td>\n",
       "    </tr>\n",
       "    <tr>\n",
       "      <th>21</th>\n",
       "      <td>../data/gsa_et/61/modis_2006-01-01.csv</td>\n",
       "      <td>modis</td>\n",
       "    </tr>\n",
       "    <tr>\n",
       "      <th>27</th>\n",
       "      <td>../data/gsa_et/61/modis_2003-01-01.csv</td>\n",
       "      <td>modis</td>\n",
       "    </tr>\n",
       "    <tr>\n",
       "      <th>28</th>\n",
       "      <td>../data/gsa_et/61/modis_2017-01-01.csv</td>\n",
       "      <td>modis</td>\n",
       "    </tr>\n",
       "    <tr>\n",
       "      <th>29</th>\n",
       "      <td>../data/gsa_et/61/modis_2008-01-01.csv</td>\n",
       "      <td>modis</td>\n",
       "    </tr>\n",
       "    <tr>\n",
       "      <th>33</th>\n",
       "      <td>../data/gsa_et/61/modis_2005-01-01.csv</td>\n",
       "      <td>modis</td>\n",
       "    </tr>\n",
       "    <tr>\n",
       "      <th>34</th>\n",
       "      <td>../data/gsa_et/61/modis_2011-01-01.csv</td>\n",
       "      <td>modis</td>\n",
       "    </tr>\n",
       "    <tr>\n",
       "      <th>36</th>\n",
       "      <td>../data/gsa_et/61/modis_2016-01-01.csv</td>\n",
       "      <td>modis</td>\n",
       "    </tr>\n",
       "    <tr>\n",
       "      <th>38</th>\n",
       "      <td>../data/gsa_et/61/modis_2002-01-01.csv</td>\n",
       "      <td>modis</td>\n",
       "    </tr>\n",
       "    <tr>\n",
       "      <th>40</th>\n",
       "      <td>../data/gsa_et/61/modis_2009-01-01.csv</td>\n",
       "      <td>modis</td>\n",
       "    </tr>\n",
       "    <tr>\n",
       "      <th>43</th>\n",
       "      <td>../data/gsa_et/61/modis_2010-01-01.csv</td>\n",
       "      <td>modis</td>\n",
       "    </tr>\n",
       "    <tr>\n",
       "      <th>44</th>\n",
       "      <td>../data/gsa_et/61/modis_2004-01-01.csv</td>\n",
       "      <td>modis</td>\n",
       "    </tr>\n",
       "  </tbody>\n",
       "</table>\n",
       "</div>"
      ],
      "text/plain": [
       "                                  file_loc   type\n",
       "1   ../data/gsa_et/61/modis_2018-01-01.csv  modis\n",
       "3   ../data/gsa_et/61/modis_2020-01-01.csv  modis\n",
       "4   ../data/gsa_et/61/modis_2001-01-01.csv  modis\n",
       "5   ../data/gsa_et/61/modis_2015-01-01.csv  modis\n",
       "9   ../data/gsa_et/61/modis_2007-01-01.csv  modis\n",
       "11  ../data/gsa_et/61/modis_2013-01-01.csv  modis\n",
       "12  ../data/gsa_et/61/modis_2019-01-01.csv  modis\n",
       "15  ../data/gsa_et/61/modis_2014-01-01.csv  modis\n",
       "20  ../data/gsa_et/61/modis_2012-01-01.csv  modis\n",
       "21  ../data/gsa_et/61/modis_2006-01-01.csv  modis\n",
       "27  ../data/gsa_et/61/modis_2003-01-01.csv  modis\n",
       "28  ../data/gsa_et/61/modis_2017-01-01.csv  modis\n",
       "29  ../data/gsa_et/61/modis_2008-01-01.csv  modis\n",
       "33  ../data/gsa_et/61/modis_2005-01-01.csv  modis\n",
       "34  ../data/gsa_et/61/modis_2011-01-01.csv  modis\n",
       "36  ../data/gsa_et/61/modis_2016-01-01.csv  modis\n",
       "38  ../data/gsa_et/61/modis_2002-01-01.csv  modis\n",
       "40  ../data/gsa_et/61/modis_2009-01-01.csv  modis\n",
       "43  ../data/gsa_et/61/modis_2010-01-01.csv  modis\n",
       "44  ../data/gsa_et/61/modis_2004-01-01.csv  modis"
      ]
     },
     "execution_count": 41,
     "metadata": {},
     "output_type": "execute_result"
    }
   ],
   "source": [
    "df_one_type"
   ]
  },
  {
   "cell_type": "code",
   "execution_count": 30,
   "id": "bc071e7a",
   "metadata": {},
   "outputs": [],
   "source": [
    "file_names_array = np.array(df_one_type['file_loc'])\n",
    "for i in range(len(file_names_array)):\n",
    "    if i == 0:\n",
    "        tc_df = pd.read_csv(file_names_array[i])\n",
    "    temp_df = pd.read_csv(file_names_array[i])\n",
    "    tc_df = pd.concat([new_df, temp_df], axis=0)"
   ]
  },
  {
   "cell_type": "code",
   "execution_count": 31,
   "id": "2efebc87",
   "metadata": {},
   "outputs": [
    {
     "name": "stdout",
     "output_type": "stream",
     "text": [
      "<class 'pandas.core.frame.DataFrame'>\n",
      "Int64Index: 264 entries, 0 to 11\n",
      "Data columns (total 4 columns):\n",
      " #   Column       Non-Null Count  Dtype  \n",
      "---  ------       --------------  -----  \n",
      " 0   time         264 non-null    object \n",
      " 1   spatial_ref  264 non-null    int64  \n",
      " 2   aet          264 non-null    float64\n",
      " 3   pet          264 non-null    float64\n",
      "dtypes: float64(2), int64(1), object(1)\n",
      "memory usage: 10.3+ KB\n"
     ]
    }
   ],
   "source": [
    "tc_df.info()"
   ]
  },
  {
   "cell_type": "code",
   "execution_count": 42,
   "id": "c1015eca",
   "metadata": {},
   "outputs": [
    {
     "name": "stdout",
     "output_type": "stream",
     "text": [
      "openet\n"
     ]
    }
   ],
   "source": [
    "df_one_type = df[df['type']==unique_types[1]]\n",
    "print(unique_types[1])"
   ]
  },
  {
   "cell_type": "code",
   "execution_count": 43,
   "id": "0a35665f",
   "metadata": {},
   "outputs": [],
   "source": [
    "file_names_array = np.array(df_one_type['file_loc'])\n",
    "for i in range(len(file_names_array)):\n",
    "    if i == 0:\n",
    "        openet_df = pd.read_csv(file_names_array[i])\n",
    "    temp_df = pd.read_csv(file_names_array[i])\n",
    "    openet_df = pd.concat([new_df, temp_df], axis=0)"
   ]
  },
  {
   "cell_type": "code",
   "execution_count": 44,
   "id": "ffb62720",
   "metadata": {},
   "outputs": [
    {
     "name": "stdout",
     "output_type": "stream",
     "text": [
      "modis\n",
      "openet\n",
      "tc\n"
     ]
    }
   ],
   "source": [
    "unique_types = sorted(df['type'].unique())\n",
    "for j in range(len(unique_types)):\n",
    "    print(unique_types[j])"
   ]
  },
  {
   "cell_type": "code",
   "execution_count": 60,
   "id": "23736952",
   "metadata": {},
   "outputs": [
    {
     "name": "stdout",
     "output_type": "stream",
     "text": [
      "<class 'pandas.core.frame.DataFrame'>\n",
      "DatetimeIndex: 1104 entries, 2018-01-01 to NaT\n",
      "Data columns (total 8 columns):\n",
      " #   Column               Non-Null Count  Dtype         \n",
      "---  ------               --------------  -----         \n",
      " 0   time                 1104 non-null   datetime64[ns]\n",
      " 1   ET                   913 non-null    float64       \n",
      " 2   PET                  913 non-null    float64       \n",
      " 3   et_ensemble_mad      60 non-null     float64       \n",
      " 4   et_ensemble_mad_min  60 non-null     float64       \n",
      " 5   et_ensemble_mad_max  60 non-null     float64       \n",
      " 6   aet                  240 non-null    float64       \n",
      " 7   pet                  240 non-null    float64       \n",
      "dtypes: datetime64[ns](1), float64(7)\n",
      "memory usage: 77.6 KB\n",
      "None\n"
     ]
    }
   ],
   "source": [
    "unique_types = sorted(df['type'].unique())\n",
    "for j in range(len(unique_types)):\n",
    "    df_one_type = df[df['type']==unique_types[j]]\n",
    "    file_names_array = np.array(df_one_type['file_loc'])\n",
    "    for i in range(len(file_names_array)):\n",
    "        if i == 0:\n",
    "            cols = list(pd.read_csv(file_names_array[i], nrows=1))\n",
    "            new_df = pd.read_csv(file_names_array[i], parse_dates=['time'], usecols=[i for i in cols if i != \"spatial_ref\"])\n",
    "            new_df = new_df.set_index('time')\n",
    "        else:\n",
    "            cols = list(pd.read_csv(file_names_array[i], nrows=1))\n",
    "            temp_df = pd.read_csv(file_names_array[i], parse_dates=['time'], usecols=[i for i in cols if i != \"spatial_ref\"])\n",
    "            temp_df = temp_df.set_index('time')\n",
    "            new_df = pd.concat([new_df, temp_df], axis=0)\n",
    "    if j == 0:\n",
    "        final_df = new_df.copy(deep=True)\n",
    "    else:\n",
    "        final_df = final_df.join(new_df, on='time', how='outer')\n",
    "final_df.to_csv('')\n",
    "\n",
    "        \n"
   ]
  },
  {
   "cell_type": "code",
   "execution_count": 46,
   "id": "a6c0a400",
   "metadata": {},
   "outputs": [
    {
     "name": "stdout",
     "output_type": "stream",
     "text": [
      "<class 'pandas.core.frame.DataFrame'>\n",
      "Int64Index: 965 entries, 0 to 45\n",
      "Data columns (total 4 columns):\n",
      " #   Column       Non-Null Count  Dtype  \n",
      "---  ------       --------------  -----  \n",
      " 0   time         965 non-null    object \n",
      " 1   spatial_ref  965 non-null    int64  \n",
      " 2   ET           959 non-null    float64\n",
      " 3   PET          959 non-null    float64\n",
      "dtypes: float64(2), int64(1), object(1)\n",
      "memory usage: 37.7+ KB\n",
      "None\n"
     ]
    }
   ],
   "source": [
    "print(final_df.info())"
   ]
  },
  {
   "cell_type": "code",
   "execution_count": 71,
   "id": "60638cb0",
   "metadata": {},
   "outputs": [
    {
     "name": "stdout",
     "output_type": "stream",
     "text": [
      "61\n",
      "159\n",
      "192\n",
      "69\n",
      "306\n",
      "160\n",
      "211\n",
      "218\n",
      "287\n",
      "413\n",
      "484\n",
      "226\n",
      "219\n",
      "217\n",
      "288\n",
      "244\n",
      "281\n",
      "406\n",
      "266\n",
      "464\n",
      "409\n",
      "205\n",
      "233\n",
      "20\n",
      "187\n",
      "18\n",
      "7\n",
      "189\n",
      "42\n",
      "116\n",
      "323\n",
      "73\n",
      "118\n",
      "120\n",
      "10\n",
      "340\n",
      "19\n",
      "314\n",
      "43\n",
      "508\n",
      "506\n",
      "65\n",
      "62\n",
      "369\n",
      "358\n",
      "39\n",
      "106\n",
      "419\n",
      "277\n",
      "481\n",
      "249\n",
      "420\n",
      "418\n",
      "225\n",
      "222\n",
      "209\n",
      "238\n",
      "239\n",
      "206\n",
      "311\n",
      "124\n",
      "514\n",
      "146\n",
      "40\n",
      "147\n"
     ]
    }
   ],
   "source": [
    "output_dirs = glob.glob(\"../data/gsa_et/*\")\n",
    "for output_dir in output_dirs:\n",
    "    gsa_id = output_dir.split(\"/\")[3]\n",
    "    print(gsa_id)\n",
    "    sample_dir_files = glob.glob(output_dir + '/*')\n",
    "    sample_file_types = []\n",
    "    for output_file in sample_dir_files:\n",
    "        sample_file_types.append(output_file.split(\"/\")[4].split(\"_\")[0])\n",
    "    df = pd.DataFrame(np.array([sample_dir_files, sample_file_types]).T, columns=['file_loc', 'type'])\n",
    "    unique_types = sorted(df['type'].unique())\n",
    "    for j in range(len(unique_types)):\n",
    "        df_one_type = df[df['type']==unique_types[j]]\n",
    "        file_names_array = np.array(df_one_type['file_loc'])\n",
    "        for i in range(len(file_names_array)):\n",
    "            if i == 0:\n",
    "                cols = list(pd.read_csv(file_names_array[i], nrows=1))\n",
    "                new_df = pd.read_csv(file_names_array[i], parse_dates=['time'], \n",
    "                                     index_col = 'time', usecols=[i for i in cols if i != \"spatial_ref\"])\n",
    "            else:\n",
    "                cols = list(pd.read_csv(file_names_array[i], nrows=1))\n",
    "                temp_df = pd.read_csv(file_names_array[i], parse_dates=['time'], \n",
    "                                      index_col='time', usecols=[i for i in cols if i != \"spatial_ref\"])\n",
    "                new_df = pd.concat([new_df, temp_df], axis=0)\n",
    "        if j == 0:\n",
    "            final_df = new_df.copy(deep=True)\n",
    "        else:\n",
    "            final_df = final_df.join(new_df, on='time', how='outer')\n",
    "    final_df = final_df.sort_values('time')\n",
    "    final_df = final_df.rename({'ET': 'modis_aet', 'PET': 'modis_pet', 'aet': 'tc_aet', 'pet':'tc_pet'}, axis=1)\n",
    "    final_df.to_csv('../data/gsa_et_compiled/'+'gsa_et_'+gsa_id+'.csv')"
   ]
  },
  {
   "cell_type": "code",
   "execution_count": null,
   "id": "6735da8e",
   "metadata": {},
   "outputs": [],
   "source": []
  }
 ],
 "metadata": {
  "kernelspec": {
   "display_name": "Python 3",
   "language": "python",
   "name": "python3"
  },
  "language_info": {
   "codemirror_mode": {
    "name": "ipython",
    "version": 3
   },
   "file_extension": ".py",
   "mimetype": "text/x-python",
   "name": "python",
   "nbconvert_exporter": "python",
   "pygments_lexer": "ipython3",
   "version": "3.6.15"
  }
 },
 "nbformat": 4,
 "nbformat_minor": 5
}
