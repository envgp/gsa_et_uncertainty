{
 "cells": [
  {
   "cell_type": "code",
   "execution_count": 1,
   "id": "73576003",
   "metadata": {},
   "outputs": [],
   "source": [
    "import os\n",
    "import geopandas as gp\n",
    "import pandas as pd\n",
    "import numpy as np\n",
    "import datetime\n",
    "import io\n",
    "import requests\n",
    "import urllib.request\n",
    "\n",
    "from tqdm import tqdm\n",
    "from functools import reduce\n",
    "from climata.usgs import DailyValueIO\n",
    "from shapely.geometry import Point\n",
    "from shapely.ops import cascaded_union\n"
   ]
  },
  {
   "cell_type": "code",
   "execution_count": 18,
   "id": "5bc1363d",
   "metadata": {},
   "outputs": [
    {
     "name": "stderr",
     "output_type": "stream",
     "text": [
      "/Users/mmorphew/opt/anaconda3/envs/elev/lib/python3.6/site-packages/ipykernel_launcher.py:12: UserWarning: Column names longer than 10 characters will be truncated when saved to ESRI Shapefile.\n",
      "  if sys.path[0] == '':\n"
     ]
    }
   ],
   "source": [
    "# Spatial join usgs gauges to butte co / gw model combined area\n",
    "\n",
    "gdf = gp.read_file(\"../shape/usgs_gauges.shp\")\n",
    "butte_gwm = gp.read_file(\"../shape/butte_gw_model.shp\")\n",
    "butte_gwm = butte_gwm.to_crs(\"EPSG:4326\")\n",
    "#overlap_gdf = butte_gwm.union(gp.read_file(\"../shape/study_area/Butte_co_rpj.shp\"))\n",
    "#overlap_gdf = gp.GeoDataFrame(geometry = overlap_gdf)\n",
    "#overlap_gdf.set_crs = \"EPSG:4326\"\n",
    "\n",
    "gauges_within = gp.sjoin(gdf.to_crs(crs=\"EPSG:4326\"), gp.GeoDataFrame(butte_gwm, crs=\"EPSG:4326\"), how='inner', op='within')\n",
    "#gauges_within = gp.sjoin(gdf.to_crs(crs=\"EPSG:4326\"), gp.GeoDataFrame(overlap_gdf, crs=\"EPSG:4326\"), how='inner', op='within')\n",
    "gauges_within.to_file(\"../shape/gauges_in_butte_sub.shp\")"
   ]
  },
  {
   "cell_type": "code",
   "execution_count": null,
   "id": "36206c70",
   "metadata": {},
   "outputs": [],
   "source": []
  },
  {
   "cell_type": "code",
   "execution_count": 19,
   "id": "382c2ba3",
   "metadata": {},
   "outputs": [],
   "source": [
    "# Read the station level discharge data \n",
    "data_dir = \"../data/discharge\"\n",
    "inflow_dir = os.path.join(data_dir,\"inflow\")\n",
    "outflow_dir = os.path.join(data_dir,\"outflow\")"
   ]
  },
  {
   "cell_type": "code",
   "execution_count": 20,
   "id": "daf3d050",
   "metadata": {},
   "outputs": [],
   "source": [
    "incsvs = [os.path.join(inflow_dir,x) for x in os.listdir(inflow_dir)]\n",
    "indfs = [pd.read_csv(x, sep = '\\t') for x in incsvs]"
   ]
  },
  {
   "cell_type": "code",
   "execution_count": 21,
   "id": "d9b0a90c",
   "metadata": {},
   "outputs": [],
   "source": [
    "outcsvs = [os.path.join(outflow_dir,x) for x in os.listdir(outflow_dir)]\n",
    "outdfs = [pd.read_csv(x, sep = '\\t') for x in outcsvs]"
   ]
  },
  {
   "cell_type": "code",
   "execution_count": null,
   "id": "3556836d",
   "metadata": {},
   "outputs": [],
   "source": []
  },
  {
   "cell_type": "code",
   "execution_count": 22,
   "id": "26db8157",
   "metadata": {},
   "outputs": [],
   "source": [
    "def filter_dfs(dflist):\n",
    "    \n",
    "    dfs_filt = []\n",
    "    \n",
    "    for df in dflist:\n",
    "\n",
    "        # Get site id\n",
    "        gauge_id = str(df['site_no'].unique()[0])\n",
    "        outcolname = '{}_q_km3'.format(gauge_id)\n",
    "\n",
    "        # Ft^3 / s to km^3 / mon\n",
    "        df[outcolname] = df['mean_va'] * 2.83168e-11 * 2.628e+6\n",
    "\n",
    "        # Get datetime \n",
    "        dtlist = []\n",
    "        for idx, row in df[['year_nu','month_nu']].iterrows():\n",
    "            dt = datetime.datetime(year=row['year_nu'], month=row['month_nu'], day=1)\n",
    "            dtlist.append(dt)\n",
    "\n",
    "        df.index = dtlist\n",
    "        df = df[(df.index < '2022-06-01') & (df.index >= '2000-01-01')]\n",
    "        dfs_filt.append(df[[outcolname]])\n",
    "        \n",
    "    return pd.concat(dfs_filt, axis = 1)"
   ]
  },
  {
   "cell_type": "code",
   "execution_count": 23,
   "id": "047bb9f8",
   "metadata": {},
   "outputs": [],
   "source": [
    "indf = pd.DataFrame(filter_dfs(indfs).sum(axis = 1))\n",
    "indf.columns = ['inflow_km3']\n",
    "outdf = pd.DataFrame(filter_dfs(outdfs).sum(axis = 1))\n",
    "outdf.columns = ['outflow_km3']"
   ]
  },
  {
   "cell_type": "code",
   "execution_count": 24,
   "id": "c789bc9b",
   "metadata": {},
   "outputs": [
    {
     "data": {
      "text/plain": [
       "<matplotlib.axes._subplots.AxesSubplot at 0x7fd1256be208>"
      ]
     },
     "execution_count": 24,
     "metadata": {},
     "output_type": "execute_result"
    },
    {
     "data": {
      "image/png": "[encoded data removed]",
      "text/plain": [
       "<Figure size 432x288 with 1 Axes>"
      ]
     },
     "metadata": {
      "needs_background": "light"
     },
     "output_type": "display_data"
    }
   ],
   "source": [
    "pd.concat([indf,outdf], axis = 1).plot()"
   ]
  },
  {
   "cell_type": "code",
   "execution_count": 9,
   "id": "844010a4",
   "metadata": {},
   "outputs": [],
   "source": [
    "indf.to_csv(\"../data/inflow_butte_sub.csv\")\n",
    "outdf.to_csv(\"../data/outflow_butte_sub.csv\")"
   ]
  },
  {
   "cell_type": "code",
   "execution_count": 10,
   "id": "9fcf1c37",
   "metadata": {},
   "outputs": [],
   "source": [
    "ingauges = [x.replace(\"_q_km3\",\"\") for x in filter_dfs(indfs).columns]\n",
    "outgauges = [x.replace(\"_q_km3\",\"\") for x in filter_dfs(outdfs).columns]"
   ]
  },
  {
   "cell_type": "code",
   "execution_count": 15,
   "id": "4be74658",
   "metadata": {},
   "outputs": [
    {
     "name": "stderr",
     "output_type": "stream",
     "text": [
      "/home/tea/anaconda3/envs/plswork/lib/python3.8/site-packages/geopandas/io/file.py:362: FutureWarning: pandas.Int64Index is deprecated and will be removed from pandas in a future version. Use pandas.Index with the appropriate dtype instead.\n",
      "  pd.Int64Index,\n",
      "/tmp/ipykernel_10400/1463921799.py:8: UserWarning: Column names longer than 10 characters will be truncated when saved to ESRI Shapefile.\n",
      "  gauges_within.to_file(\"../shape/gauges_in_butte.shp\")\n"
     ]
    }
   ],
   "source": [
    "gdf = gp.read_file(\"../shape/usgs_gauges.shp\")\n",
    "butte_gwm = gp.read_file(\"../shape/butte_gw_model.shp\")\n",
    "overlap_gdf = butte_gwm.union(gp.read_file(\"../shape/Butte_co_rpj.shp\"))\n",
    "overlap_gdf = gp.GeoDataFrame(geometry = overlap_gdf)\n",
    "overlap_gdf.set_crs = \"EPSG:4326\"\n",
    "\n",
    "gauges_within = gp.sjoin(gdf, gp.GeoDataFrame(overlap_gdf).to_crs(\"EPSG:4326\"), how='inner', predicate='within')\n",
    "gauges_within.to_file(\"../shape/gauges_in_butte.shp\")"
   ]
  },
  {
   "cell_type": "code",
   "execution_count": 12,
   "id": "e4f5c9a8",
   "metadata": {},
   "outputs": [
    {
     "data": {
      "text/plain": [
       "<AxesSubplot:>"
      ]
     },
     "execution_count": 12,
     "metadata": {},
     "output_type": "execute_result"
    },
    {
     "data": {
      "image/png": "[encoded data removed]",
      "text/plain": [
       "<Figure size 432x288 with 1 Axes>"
      ]
     },
     "metadata": {
      "needs_background": "light"
     },
     "output_type": "display_data"
    }
   ],
   "source": [
    "gauges_within.plot()"
   ]
  },
  {
   "cell_type": "code",
   "execution_count": 13,
   "id": "946feef4",
   "metadata": {},
   "outputs": [
    {
     "data": {
      "text/plain": [
       "array(['11395500', '11396000', '11396090', '11396200', '11396290',\n",
       "       '11396310', '11396395', '11396396', '11396397', '11406818',\n",
       "       '11406819', '11406820', '11404330', '11404360', '11404380',\n",
       "       '11404400', '11404500', '11404900', '11405085', '11405120',\n",
       "       '11405200', '11420750', '11420770', '11421000', '11383500',\n",
       "       '11383515', '11389720', '11389740', '11389747', '11389750',\n",
       "       '11389775', '11389780', '11389800', '11390000', '11406880',\n",
       "       '11406890', '11406900', '11396329', '11396330', '11406810',\n",
       "       '11406848', '11406849', '11406850', '11406910', '11406920',\n",
       "       '11406930', '11406999', '11407000', '11407150'], dtype=object)"
      ]
     },
     "execution_count": 13,
     "metadata": {},
     "output_type": "execute_result"
    }
   ],
   "source": [
    "gauges_within['gauge_id'].values"
   ]
  },
  {
   "cell_type": "code",
   "execution_count": null,
   "id": "50889de0",
   "metadata": {},
   "outputs": [],
   "source": []
  }
 ],
 "metadata": {
  "kernelspec": {
   "display_name": "Python 3",
   "language": "python",
   "name": "python3"
  },
  "language_info": {
   "codemirror_mode": {
    "name": "ipython",
    "version": 3
   },
   "file_extension": ".py",
   "mimetype": "text/x-python",
   "name": "python",
   "nbconvert_exporter": "python",
   "pygments_lexer": "ipython3",
   "version": "3.6.15"
  }
 },
 "nbformat": 4,
 "nbformat_minor": 5
}
