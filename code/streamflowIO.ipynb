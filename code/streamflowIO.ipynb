{
 "cells": [
  {
   "cell_type": "code",
   "execution_count": 1,
   "id": "77ca8851-26eb-4095-a7bc-738cada346a8",
   "metadata": {},
   "outputs": [],
   "source": [
    "import os\n",
    "import geopandas as gp\n",
    "import pandas as pd\n",
    "import numpy as np\n",
    "import datetime\n",
    "import io\n",
    "import requests\n",
    "import urllib.request\n",
    "\n",
    "from tqdm import tqdm\n",
    "from functools import reduce\n",
    "from climata.usgs import DailyValueIO\n",
    "from shapely.geometry import Point\n",
    "from shapely.ops import cascaded_union"
   ]
  },
  {
   "cell_type": "code",
   "execution_count": 10,
   "id": "ffe6c1c6-f876-4e97-af08-b366f1d2d4fd",
   "metadata": {},
   "outputs": [],
   "source": [
    "def get_streamflow(huc8):\n",
    "    '''\n",
    "    for a huc8 (e.g. 18020162), call climata api and get streamflow for all stations within boundary\n",
    "    '''\n",
    "    data =  DailyValueIO (\n",
    "            start_date=\"1997-01-01\", \n",
    "            end_date=\"2021-01-01\",\n",
    "            basin=huc8,\n",
    "            parameter=\"00060\",\n",
    "            )\n",
    "    qs = []\n",
    "    ds = []\n",
    "    lats = []\n",
    "    lons = []\n",
    "    ids = []\n",
    "    for series in data:\n",
    "        values = []\n",
    "        dates = []\n",
    "        lats.append(series.latitude)\n",
    "        lons.append(series.longitude)\n",
    "        ids.append(series.site_code)\n",
    "        for row in series.data:\n",
    "            values.append(row.value)\n",
    "            dates.append(row.date)\n",
    "        qs.append(values)\n",
    "        ds.append(dates)\n",
    "    geometry = [Point(xy) for xy in zip(lons, lats)]\n",
    "    df = pd.DataFrame(geometry)\n",
    "    crs = {'init': 'epsg:4326'}\n",
    "    gdf = gp.GeoDataFrame(df, crs=crs, geometry=geometry)\n",
    "    return gdf, qs, ds, ids"
   ]
  },
  {
   "cell_type": "code",
   "execution_count": 11,
   "id": "bdc48a27-b584-4c01-b5cd-33b4ce35e550",
   "metadata": {},
   "outputs": [],
   "source": [
    "streams = {'deer creek':'11383500','butte creek':'11390000','feather river':'11407150','yuba river':'11421000',\n",
    "           'sacramento river at butte city':'11389000','sacramento river at colusa':'11389500'}"
   ]
  },
  {
   "cell_type": "code",
   "execution_count": 12,
   "id": "2c756e88-fd4e-4966-91d6-e76a966b02a0",
   "metadata": {},
   "outputs": [
    {
     "name": "stdout",
     "output_type": "stream",
     "text": [
      "11383500\n"
     ]
    },
    {
     "name": "stderr",
     "output_type": "stream",
     "text": [
      "/home/tea/anaconda3/envs/rsenv/lib/python3.8/site-packages/pyproj/crs/crs.py:130: FutureWarning: '+init=<authority>:<code>' syntax is deprecated. '<authority>:<code>' is the preferred initialization method. When making the change, be mindful of axis order changes: https://pyproj4.github.io/pyproj/stable/gotchas.html#axis-order-changes-in-proj-6\n",
      "  in_crs_string = _prepare_from_proj_string(in_crs_string)\n"
     ]
    },
    {
     "name": "stdout",
     "output_type": "stream",
     "text": [
      "11390000\n"
     ]
    },
    {
     "name": "stderr",
     "output_type": "stream",
     "text": [
      "/home/tea/anaconda3/envs/rsenv/lib/python3.8/site-packages/pyproj/crs/crs.py:130: FutureWarning: '+init=<authority>:<code>' syntax is deprecated. '<authority>:<code>' is the preferred initialization method. When making the change, be mindful of axis order changes: https://pyproj4.github.io/pyproj/stable/gotchas.html#axis-order-changes-in-proj-6\n",
      "  in_crs_string = _prepare_from_proj_string(in_crs_string)\n"
     ]
    },
    {
     "name": "stdout",
     "output_type": "stream",
     "text": [
      "11407150\n"
     ]
    },
    {
     "name": "stderr",
     "output_type": "stream",
     "text": [
      "/home/tea/anaconda3/envs/rsenv/lib/python3.8/site-packages/pyproj/crs/crs.py:130: FutureWarning: '+init=<authority>:<code>' syntax is deprecated. '<authority>:<code>' is the preferred initialization method. When making the change, be mindful of axis order changes: https://pyproj4.github.io/pyproj/stable/gotchas.html#axis-order-changes-in-proj-6\n",
      "  in_crs_string = _prepare_from_proj_string(in_crs_string)\n"
     ]
    },
    {
     "name": "stdout",
     "output_type": "stream",
     "text": [
      "11421000\n"
     ]
    },
    {
     "name": "stderr",
     "output_type": "stream",
     "text": [
      "/home/tea/anaconda3/envs/rsenv/lib/python3.8/site-packages/pyproj/crs/crs.py:130: FutureWarning: '+init=<authority>:<code>' syntax is deprecated. '<authority>:<code>' is the preferred initialization method. When making the change, be mindful of axis order changes: https://pyproj4.github.io/pyproj/stable/gotchas.html#axis-order-changes-in-proj-6\n",
      "  in_crs_string = _prepare_from_proj_string(in_crs_string)\n"
     ]
    },
    {
     "name": "stdout",
     "output_type": "stream",
     "text": [
      "11389000\n"
     ]
    },
    {
     "name": "stderr",
     "output_type": "stream",
     "text": [
      "/home/tea/anaconda3/envs/rsenv/lib/python3.8/site-packages/pyproj/crs/crs.py:130: FutureWarning: '+init=<authority>:<code>' syntax is deprecated. '<authority>:<code>' is the preferred initialization method. When making the change, be mindful of axis order changes: https://pyproj4.github.io/pyproj/stable/gotchas.html#axis-order-changes-in-proj-6\n",
      "  in_crs_string = _prepare_from_proj_string(in_crs_string)\n"
     ]
    },
    {
     "name": "stdout",
     "output_type": "stream",
     "text": [
      "11389500\n"
     ]
    },
    {
     "name": "stderr",
     "output_type": "stream",
     "text": [
      "/home/tea/anaconda3/envs/rsenv/lib/python3.8/site-packages/pyproj/crs/crs.py:130: FutureWarning: '+init=<authority>:<code>' syntax is deprecated. '<authority>:<code>' is the preferred initialization method. When making the change, be mindful of axis order changes: https://pyproj4.github.io/pyproj/stable/gotchas.html#axis-order-changes-in-proj-6\n",
      "  in_crs_string = _prepare_from_proj_string(in_crs_string)\n"
     ]
    }
   ],
   "source": [
    "IO_datas = []\n",
    "for key in streams:\n",
    "    print(streams[key])\n",
    "    IO_datas.append(get_streamflow(streams[key]))"
   ]
  },
  {
   "cell_type": "code",
   "execution_count": 14,
   "id": "d0eb67e6-1592-4406-b3ff-971ec065c51d",
   "metadata": {},
   "outputs": [
    {
     "name": "stdout",
     "output_type": "stream",
     "text": [
      "[(Empty GeoDataFrame\n",
      "Columns: [geometry]\n",
      "Index: [], [], [], []), (Empty GeoDataFrame\n",
      "Columns: [geometry]\n",
      "Index: [], [], [], []), (Empty GeoDataFrame\n",
      "Columns: [geometry]\n",
      "Index: [], [], [], []), (Empty GeoDataFrame\n",
      "Columns: [geometry]\n",
      "Index: [], [], [], []), (Empty GeoDataFrame\n",
      "Columns: [geometry]\n",
      "Index: [], [], [], []), (Empty GeoDataFrame\n",
      "Columns: [geometry]\n",
      "Index: [], [], [], [])]\n"
     ]
    }
   ],
   "source": [
    "print(IO_datas)"
   ]
  },
  {
   "cell_type": "code",
   "execution_count": 16,
   "id": "49c201a9-3064-4f80-8177-824b4e06f3b8",
   "metadata": {},
   "outputs": [
    {
     "name": "stderr",
     "output_type": "stream",
     "text": [
      "/home/tea/anaconda3/envs/rsenv/lib/python3.8/site-packages/pyproj/crs/crs.py:130: FutureWarning: '+init=<authority>:<code>' syntax is deprecated. '<authority>:<code>' is the preferred initialization method. When making the change, be mindful of axis order changes: https://pyproj4.github.io/pyproj/stable/gotchas.html#axis-order-changes-in-proj-6\n",
      "  in_crs_string = _prepare_from_proj_string(in_crs_string)\n"
     ]
    },
    {
     "data": {
      "text/plain": [
       "(Empty GeoDataFrame\n",
       " Columns: [geometry]\n",
       " Index: [],\n",
       " [],\n",
       " [],\n",
       " [])"
      ]
     },
     "execution_count": 16,
     "metadata": {},
     "output_type": "execute_result"
    }
   ],
   "source": [
    "get_streamflow('11389500')"
   ]
  },
  {
   "cell_type": "code",
   "execution_count": null,
   "id": "eb7cb438-ac51-4539-ba33-dc601d58d1fb",
   "metadata": {},
   "outputs": [],
   "source": []
  }
 ],
 "metadata": {
  "kernelspec": {
   "display_name": "Python 3",
   "language": "python",
   "name": "python3"
  },
  "language_info": {
   "codemirror_mode": {
    "name": "ipython",
    "version": 3
   },
   "file_extension": ".py",
   "mimetype": "text/x-python",
   "name": "python",
   "nbconvert_exporter": "python",
   "pygments_lexer": "ipython3",
   "version": "3.6.15"
  }
 },
 "nbformat": 4,
 "nbformat_minor": 5
}
