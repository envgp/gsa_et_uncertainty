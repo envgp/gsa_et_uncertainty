{
 "cells": [
  {
   "cell_type": "code",
   "execution_count": 1,
   "id": "ddedd69d",
   "metadata": {},
   "outputs": [],
   "source": [
    "import os\n",
    "import time\n",
    "import datetime\n",
    "import itertools\n",
    "import cartopy\n",
    "import matplotlib\n",
    "import tqdm\n",
    "import csv \n",
    "import geopandas as gpd\n",
    "import rasterio as rio\n",
    "import fiona\n",
    "from mpl_toolkits.basemap import Basemap\n",
    "\n",
    "import numpy as np\n",
    "import pandas as pd\n",
    "import rsfuncs as rs\n",
    "import seaborn as sns\n",
    "import geopandas as gp\n",
    "from sklearn.preprocessing import MinMaxScaler\n",
    "sns.set()\n",
    "import matplotlib.pyplot as plt\n",
    "import matplotlib.dates as mdates\n",
    "import matplotlib.gridspec as gridspec\n",
    "import matplotlib.ticker as mticker\n",
    "import matplotlib.patches as mpatches\n",
    "\n",
    "import cartopy.crs as ccrs\n",
    "import cartopy.io.img_tiles as cimgt\n",
    "\n",
    "from matplotlib.lines import Line2D\n",
    "from cartopy.io.shapereader import Reader\n",
    "from cartopy.feature import ShapelyFeature\n",
    "from cartopy.mpl.gridliner import LONGITUDE_FORMATTER, LATITUDE_FORMATTER\n",
    "\n",
    "from descartes import PolygonPatch\n",
    "from itertools import combinations\n",
    "from collections import OrderedDict \n",
    "\n",
    "import datetime as dt\n",
    "from glob import glob\n",
    "import xarray as xr\n",
    "import rioxarray\n",
    "from shapely.geometry import mapping"
   ]
  },
  {
   "cell_type": "code",
   "execution_count": 3,
   "id": "65e069e5",
   "metadata": {},
   "outputs": [
    {
     "data": {
      "text/plain": [
       "CRS.from_epsg(4326)"
      ]
     },
     "execution_count": 3,
     "metadata": {},
     "output_type": "execute_result"
    }
   ],
   "source": [
    "raster = rio.open('../code/OpenET_Ensemble_Tiffs/8985_ensemble_et_public_0.tif')\n",
    "raster.crs"
   ]
  },
  {
   "cell_type": "code",
   "execution_count": 10,
   "id": "5d0e952d",
   "metadata": {},
   "outputs": [],
   "source": [
    "area_bs = gp.read_file(\"../shape/SGMA_Butte Subbasin_2018.shp\")\n",
    "area_bs_km2 = float(area_bs.to_crs(epsg=32611).area * 1e-6)\n",
    "area_bs.to_crs(epsg=4326, inplace=True)\n",
    "\n",
    "area_vs = gp.read_file(\"../shape/SGMA_Vina Subbasin_Bulletin 118-2018.shp\")\n",
    "area_vs_km2 = float(area_vs.to_crs(epsg=32611).area * 1e-6)\n",
    "area_vs.to_crs(epsg=4326, inplace=True)\n",
    "\n",
    "area_ws = gp.read_file(\"../shape/SGMA_Wyandotte Subbasin_2018.shp\")\n",
    "area_ws_km2 = float(area_ws.to_crs(epsg=32611).area * 1e-6)\n",
    "area_ws.to_crs(epsg=4326, inplace=True)"
   ]
  },
  {
   "cell_type": "code",
   "execution_count": 4,
   "id": "e67da6b1",
   "metadata": {},
   "outputs": [],
   "source": [
    "out_image, out_transform = rio.mask.mask(raster, area_bs.geometry, crop=True)"
   ]
  },
  {
   "cell_type": "code",
   "execution_count": 5,
   "id": "1648b57a",
   "metadata": {},
   "outputs": [],
   "source": [
    "raster_names = glob('../code/OpenET_Ensemble_Tiffs/*.tif')\n",
    "butte_subbasin_openet = []\n",
    "vina_subbasin_openet = []\n",
    "wyandotte_subbasin_openet = []"
   ]
  },
  {
   "cell_type": "code",
   "execution_count": 6,
   "id": "64ad446b",
   "metadata": {},
   "outputs": [],
   "source": [
    "for raster_name in raster_names:\n",
    "    raster = rio.open(raster_name)\n",
    "    out_image, out_transform = rio.mask.mask(raster, area_bs.geometry, crop=True)\n",
    "    butte_subbasin_openet.append(out_image)\n",
    "    out_image, out_transform = rio.mask.mask(raster, area_vs.geometry, crop=True)\n",
    "    vina_subbasin_openet.append(out_image)\n",
    "    out_image, out_transform = rio.mask.mask(raster, area_ws.geometry, crop=True)\n",
    "    wyandotte_subbasin_openet.append(out_image)"
   ]
  },
  {
   "cell_type": "code",
   "execution_count": null,
   "id": "f00c857b",
   "metadata": {},
   "outputs": [],
   "source": []
  },
  {
   "cell_type": "code",
   "execution_count": 7,
   "id": "9f8b537a",
   "metadata": {},
   "outputs": [],
   "source": [
    "butte_subbasin_open = np.vstack(butte_subbasin_openet)\n",
    "vina_subbasin_open = np.vstack(vina_subbasin_openet)\n",
    "wyandotte_subbasin_open = np.vstack(wyandotte_subbasin_openet)"
   ]
  },
  {
   "cell_type": "code",
   "execution_count": 11,
   "id": "876b8853",
   "metadata": {},
   "outputs": [
    {
     "data": {
      "text/plain": [
       "(79, 1991, 1460)"
      ]
     },
     "execution_count": 11,
     "metadata": {},
     "output_type": "execute_result"
    }
   ],
   "source": [
    "butte_subbasin_open.shape"
   ]
  },
  {
   "cell_type": "code",
   "execution_count": 8,
   "id": "ecf3221c",
   "metadata": {},
   "outputs": [],
   "source": [
    "butte_sub_mean = np.nanmean(butte_subbasin_open, axis=(1,2))*1e-6*area_bs_km2\n",
    "vina_sub_mean = np.nanmean(vina_subbasin_open, axis=(1,2))*1e-6*area_vs_km2\n",
    "wyandotte_sub_mean = np.nanmean(wyandotte_subbasin_open, axis=(1,2))*1e-6*area_ws_km2"
   ]
  },
  {
   "cell_type": "code",
   "execution_count": 9,
   "id": "b6c8241d",
   "metadata": {},
   "outputs": [],
   "source": [
    "datetime_range = pd.date_range(start='2016-01', end='2022-08', freq='M')"
   ]
  },
  {
   "cell_type": "code",
   "execution_count": 10,
   "id": "8d336e46",
   "metadata": {},
   "outputs": [
    {
     "name": "stdout",
     "output_type": "stream",
     "text": [
      "79\n",
      "79\n"
     ]
    }
   ],
   "source": [
    "print(len(butte_sub_mean))\n",
    "print(len(datetime_range))"
   ]
  },
  {
   "cell_type": "code",
   "execution_count": 76,
   "id": "23eed451",
   "metadata": {},
   "outputs": [],
   "source": [
    "butte_df = pd.DataFrame(butte_sub_mean, index=datetime_range, columns = ['openet'])\n",
    "vina_df = pd.DataFrame(vina_sub_mean, index=datetime_range, columns = ['openet'])\n",
    "wyandotte_df = pd.DataFrame(wyandotte_sub_mean, index=datetime_range, columns = ['openet'])"
   ]
  },
  {
   "cell_type": "code",
   "execution_count": 77,
   "id": "68ab5e1a",
   "metadata": {},
   "outputs": [],
   "source": [
    "butte_df.to_csv('../data/openet_butte_subbasin.csv')\n",
    "vina_df.to_csv('../data/openet_vina_subbasin.csv')\n",
    "wyandotte_df.to_csv('../data/openet_wyandotte_subbasin.csv')"
   ]
  },
  {
   "cell_type": "code",
   "execution_count": 4,
   "id": "b852abd0",
   "metadata": {},
   "outputs": [],
   "source": [
    "xarray_image = xr.open_dataset('../code/OpenET_Ensemble_Tiffs/Butte_Basin_Open_ET_Earth_Engine.nc')"
   ]
  },
  {
   "cell_type": "code",
   "execution_count": 6,
   "id": "eb8ac22b",
   "metadata": {},
   "outputs": [],
   "source": [
    "open_et_ee_median = xarray_image['et_ensemble_mad']\n",
    "open_et_ee_max = xarray_image['et_ensemble_mad_max']\n",
    "open_et_ee_min = xarray_image['et_ensemble_mad_min']"
   ]
  },
  {
   "cell_type": "code",
   "execution_count": 14,
   "id": "95a99179",
   "metadata": {},
   "outputs": [],
   "source": [
    "xarray_image.rio.write_crs(4326, inplace=True)\n",
    "xarray_image.rio.set_spatial_dims(x_dim=\"x\", y_dim=\"y\", inplace=True)\n",
    "butte_subbasin_clipped = xarray_image.rio.clip(area_bs.geometry.apply(mapping), \n",
    "                                                area_bs.crs, drop=False)\n",
    "vina_subbasin_clipped = xarray_image.rio.clip(area_vs.geometry.apply(mapping), \n",
    "                                                area_vs.crs, drop=False)\n",
    "wyandotte_subbasin_clipped = xarray_image.rio.clip(area_ws.geometry.apply(mapping), \n",
    "                                                area_ws.crs, drop=False)"
   ]
  },
  {
   "cell_type": "code",
   "execution_count": 15,
   "id": "cc490c6e",
   "metadata": {},
   "outputs": [],
   "source": [
    "butte_subbasin_clipped = butte_subbasin_clipped*1e-6*area_bs_km2\n",
    "vina_subbasin_clipped = vina_subbasin_clipped*1e-6*area_vs_km2\n",
    "wyandotte_subbasin_clipped = wyandotte_subbasin_clipped*1e-6*area_ws_km2"
   ]
  },
  {
   "cell_type": "code",
   "execution_count": 17,
   "id": "f069cf97",
   "metadata": {},
   "outputs": [],
   "source": [
    "butte_subbasin_timeseries = butte_subbasin_clipped.mean(['x','y'])\n",
    "vina_subbasin_timeseries = vina_subbasin_clipped.mean(['x','y'])\n",
    "wyandotte_subbasin_timeseries = wyandotte_subbasin_clipped.mean(['x','y'])"
   ]
  },
  {
   "cell_type": "code",
   "execution_count": 18,
   "id": "809b0b90",
   "metadata": {},
   "outputs": [
    {
     "data": {
      "text/plain": [
       "<xarray.Dataset>\n",
       "Dimensions:              (time: 66)\n",
       "Coordinates:\n",
       "  * time                 (time) datetime64[ns] 2016-01-01 ... 2021-11-01\n",
       "    spatial_ref          int64 0\n",
       "Data variables:\n",
       "    et_ensemble_mad      (time) float64 0.02461 0.05207 ... 0.04314 0.03027\n",
       "    et_ensemble_mad_min  (time) float64 0.01595 0.03196 ... 0.03085 0.02047\n",
       "    et_ensemble_mad_max  (time) float64 0.03348 0.07217 ... 0.05544 0.03991"
      ]
     },
     "execution_count": 18,
     "metadata": {},
     "output_type": "execute_result"
    }
   ],
   "source": [
    "butte_subbasin_timeseries"
   ]
  },
  {
   "cell_type": "code",
   "execution_count": 20,
   "id": "8e0ac109",
   "metadata": {},
   "outputs": [],
   "source": [
    "butte_df = butte_subbasin_timeseries.to_dataframe()\n",
    "vina_df = vina_subbasin_timeseries.to_dataframe()\n",
    "wyandotte_df = wyandotte_subbasin_timeseries.to_dataframe()"
   ]
  },
  {
   "cell_type": "code",
   "execution_count": 21,
   "id": "6ae905dd",
   "metadata": {},
   "outputs": [
    {
     "name": "stdout",
     "output_type": "stream",
     "text": [
      "<class 'pandas.core.frame.DataFrame'>\n",
      "DatetimeIndex: 66 entries, 2016-01-01 to 2021-11-01\n",
      "Data columns (total 4 columns):\n",
      " #   Column               Non-Null Count  Dtype  \n",
      "---  ------               --------------  -----  \n",
      " 0   spatial_ref          66 non-null     int64  \n",
      " 1   et_ensemble_mad      66 non-null     float64\n",
      " 2   et_ensemble_mad_min  66 non-null     float64\n",
      " 3   et_ensemble_mad_max  66 non-null     float64\n",
      "dtypes: float64(3), int64(1)\n",
      "memory usage: 2.6 KB\n"
     ]
    }
   ],
   "source": [
    "butte_df.info()"
   ]
  },
  {
   "cell_type": "code",
   "execution_count": 22,
   "id": "c8db63c2",
   "metadata": {},
   "outputs": [],
   "source": [
    "butte_df.to_csv('../data/openet_butte_subbasin_ee.csv')\n",
    "vina_df.to_csv('../data/openet_vina_subbasin_ee.csv')\n",
    "wyandotte_df.to_csv('../data/openet_wyandotte_subbasin_ee.csv')"
   ]
  },
  {
   "cell_type": "code",
   "execution_count": 5,
   "id": "ca7d504b",
   "metadata": {},
   "outputs": [
    {
     "data": {
      "text/plain": [
       "<xarray.Dataset>\n",
       "Dimensions:      (time: 72, x: 174, y: 238)\n",
       "Coordinates:\n",
       "  * time         (time) datetime64[ns] 2016-01-01 2016-02-01 ... 2021-12-01\n",
       "  * y            (y) float64 39.73 39.72 39.72 39.72 ... 39.2 39.2 39.2 39.19\n",
       "  * x            (x) float64 -122.0 -122.0 -122.0 ... -121.6 -121.6 -121.6\n",
       "    spatial_ref  (time) int64 ...\n",
       "Data variables:\n",
       "    DisALEXI_ET  (time, y, x) float64 ...\n",
       "Attributes:\n",
       "    transform:               [ 2.24578821e-03  0.00000000e+00 -1.24746798e+02...\n",
       "    res:                     [0.00224579 0.00224579]\n",
       "    is_tiled:                1\n",
       "    nodatavals:              -32768.0\n",
       "    scales:                  1.0\n",
       "    offsets:                 0.0\n",
       "    AREA_OR_POINT:           Area\n",
       "    TIFFTAG_RESOLUTIONUNIT:  1 (unitless)\n",
       "    TIFFTAG_XRESOLUTION:     1\n",
       "    TIFFTAG_YRESOLUTION:     1"
      ]
     },
     "execution_count": 5,
     "metadata": {},
     "output_type": "execute_result"
    }
   ],
   "source": [
    "sample = xr.open_dataset('../data/et_images/DisALEXI_Butte.nc')\n",
    "sample"
   ]
  },
  {
   "cell_type": "code",
   "execution_count": 6,
   "id": "19afe090",
   "metadata": {},
   "outputs": [
    {
     "data": {
      "text/plain": [
       "<matplotlib.collections.QuadMesh at 0x7fd40f0b0400>"
      ]
     },
     "execution_count": 6,
     "metadata": {},
     "output_type": "execute_result"
    },
    {
     "data": {
      "image/png": "[encoded data removed]",
      "text/plain": [
       "<Figure size 432x288 with 2 Axes>"
      ]
     },
     "metadata": {},
     "output_type": "display_data"
    }
   ],
   "source": [
    "sample['DisALEXI_ET'].isel(time=-1).plot()"
   ]
  },
  {
   "cell_type": "code",
   "execution_count": null,
   "id": "c08e892c",
   "metadata": {},
   "outputs": [],
   "source": []
  }
 ],
 "metadata": {
  "kernelspec": {
   "display_name": "Python 3",
   "language": "python",
   "name": "python3"
  },
  "language_info": {
   "codemirror_mode": {
    "name": "ipython",
    "version": 3
   },
   "file_extension": ".py",
   "mimetype": "text/x-python",
   "name": "python",
   "nbconvert_exporter": "python",
   "pygments_lexer": "ipython3",
   "version": "3.6.15"
  }
 },
 "nbformat": 4,
 "nbformat_minor": 5
}
