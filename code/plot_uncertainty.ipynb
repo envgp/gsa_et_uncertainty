{
 "cells": [
  {
   "cell_type": "code",
   "execution_count": 1,
   "id": "50eb5253",
   "metadata": {},
   "outputs": [],
   "source": [
    "import numpy as np\n",
    "import pandas as pd\n",
    "import glob\n",
    "import geopandas as gp\n",
    "\n",
    "from ipywidgets import widgets, interact, fixed\n",
    "\n",
    "import cartopy.crs as ccrs\n",
    "import cartopy.io.img_tiles as cimgt\n",
    "\n",
    "import matplotlib.pyplot as plt\n",
    "import matplotlib.dates as mdates\n",
    "import matplotlib.gridspec as gridspec\n",
    "import matplotlib.ticker as mticker\n",
    "import matplotlib.patches as mpatches\n",
    "\n",
    "from matplotlib.lines import Line2D\n",
    "from cartopy.io.shapereader import Reader\n",
    "from cartopy.feature import ShapelyFeature\n",
    "from cartopy.mpl.gridliner import LONGITUDE_FORMATTER, LATITUDE_FORMATTER\n",
    "\n",
    "from descartes import PolygonPatch\n",
    "from itertools import combinations\n",
    "from collections import OrderedDict \n",
    "\n",
    "import contextily as cx\n",
    "import imageio\n",
    "import xarray as xr\n",
    "import math\n",
    "import matplotlib.colors as colors\n",
    "import rioxarray as rio\n",
    "from shapely.geometry import mapping"
   ]
  },
  {
   "cell_type": "code",
   "execution_count": 2,
   "id": "be726cf8",
   "metadata": {},
   "outputs": [],
   "source": [
    "output_dir = \"../data/gsa_et/\"\n",
    "# Load GSAs shapefile and clean them so we only have \"large GSAs\"\n",
    "gsa_shape = gp.read_file(\n",
    "    \"../shape/i03_Groundwater_Sustainability_Agencies_MapService.shp\"\n",
    ")\n",
    "cv_shape = gp.read_file(\"../shape/Alluvial_Bnd.shp\")\n",
    "cv_shape.to_crs(3310, inplace=True)\n",
    "gsa_shape.to_crs(3310, inplace=True)\n",
    "cv_shape[\"geometry\"] = cv_shape.geometry.buffer(10000)\n",
    "gsa_cv = gsa_shape.within(cv_shape.loc[0, \"geometry\"])\n",
    "gsa_cv = gsa_shape.loc[gsa_cv]\n",
    "gsa_cv_cleaned_no_small = gsa_cv[gsa_cv[\"ShapeSTAre\"] > 4e8].copy()\n",
    "#gsa_cv_cleaned_no_small['variance'] = 0.0"
   ]
  },
  {
   "cell_type": "code",
   "execution_count": 3,
   "id": "5bb5d7a5",
   "metadata": {},
   "outputs": [],
   "source": [
    "et_data_file_names = glob.glob('../data/gsa_et_compiled/*')"
   ]
  },
  {
   "cell_type": "code",
   "execution_count": 4,
   "id": "c234558a",
   "metadata": {},
   "outputs": [],
   "source": [
    "et_data_file_gsas = []\n",
    "for et_data_file_name in et_data_file_names:\n",
    "    et_data_file_gsas.append(int(et_data_file_name.split(\"/\")[3].split(\"_\")[2][:-4]))"
   ]
  },
  {
   "cell_type": "code",
   "execution_count": 5,
   "id": "05e82930",
   "metadata": {},
   "outputs": [],
   "source": [
    "stamen_terrain = cimgt.Stamen('terrain-background')\n",
    "stamen_terrain_2 = cimgt.Stamen('terrain-background')"
   ]
  },
  {
   "cell_type": "code",
   "execution_count": 6,
   "id": "a896f6b1",
   "metadata": {},
   "outputs": [
    {
     "data": {
      "text/plain": [
       "cartopy.io.img_tiles.Stamen"
      ]
     },
     "execution_count": 6,
     "metadata": {},
     "output_type": "execute_result"
    }
   ],
   "source": [
    "type(stamen_terrain)"
   ]
  },
  {
   "cell_type": "code",
   "execution_count": 7,
   "id": "b78f315d",
   "metadata": {},
   "outputs": [
    {
     "name": "stdout",
     "output_type": "stream",
     "text": [
      "<class 'geopandas.geodataframe.GeoDataFrame'>\n",
      "Int64Index: 65 entries, 7 to 349\n",
      "Data columns (total 23 columns):\n",
      " #   Column      Non-Null Count  Dtype   \n",
      "---  ------      --------------  -----   \n",
      " 0   OBJECTID    65 non-null     int64   \n",
      " 1   GSA_ID      65 non-null     int64   \n",
      " 2   GSA_Name    65 non-null     object  \n",
      " 3   Loc_GSA_ID  0 non-null      object  \n",
      " 4   Basin_Name  65 non-null     object  \n",
      " 5   Posted_DT   65 non-null     object  \n",
      " 6   GSA_URL     43 non-null     object  \n",
      " 7   POC_Name    63 non-null     object  \n",
      " 8   POC_Phone   63 non-null     object  \n",
      " 9   POC_Email   63 non-null     object  \n",
      " 10  Date_90_Da  65 non-null     object  \n",
      " 11  Exclusive   65 non-null     object  \n",
      " 12  Overlap     65 non-null     object  \n",
      " 13  GSP_ID      65 non-null     int64   \n",
      " 14  COMMENTS    0 non-null      object  \n",
      " 15  Basin_Numb  65 non-null     object  \n",
      " 16  Basin_Subb  65 non-null     object  \n",
      " 17  Basin_Su_1  65 non-null     object  \n",
      " 18  UPDATED_DT  65 non-null     object  \n",
      " 19  MODIFIED_B  65 non-null     object  \n",
      " 20  ShapeSTAre  65 non-null     float64 \n",
      " 21  ShapeSTLen  65 non-null     float64 \n",
      " 22  geometry    65 non-null     geometry\n",
      "dtypes: float64(2), geometry(1), int64(3), object(17)\n",
      "memory usage: 12.2+ KB\n"
     ]
    }
   ],
   "source": [
    "gsa_cv_cleaned_no_small.info()"
   ]
  },
  {
   "cell_type": "code",
   "execution_count": 8,
   "id": "684691f4",
   "metadata": {},
   "outputs": [],
   "source": [
    "#gsa_cv_cleaned_no_small.to_crs(3857, inplace=True)\n",
    "#gsa_cv_cleaned_no_small.bounds"
   ]
  },
  {
   "cell_type": "code",
   "execution_count": 9,
   "id": "dd9ee868",
   "metadata": {},
   "outputs": [],
   "source": [
    "cropland_data = xr.open_dataset(\"../data/cropland/cropland_combined_3.nc\")"
   ]
  },
  {
   "cell_type": "code",
   "execution_count": 10,
   "id": "dfef6231",
   "metadata": {},
   "outputs": [],
   "source": [
    "cropland_data_copy = xr.open_dataset(\"../data/cropland/cropland_combined_3.nc\")\n",
    "cv_shape_copy = gp.read_file(\"../shape/Alluvial_Bnd.shp\")\n",
    "cv_shape_copy.to_crs(4326, inplace=True)\n",
    "\n",
    "cropland_data_copy.rio.write_crs(4326, inplace=True)\n",
    "cropland_data_copy.rio.set_spatial_dims(x_dim=\"x\", y_dim=\"y\", inplace=True)\n",
    "cropland_data_clipped = cropland_data_copy.rio.clip(\n",
    "    cv_shape_copy.geometry.apply(mapping), cv_shape_copy.crs, drop=False)"
   ]
  },
  {
   "cell_type": "code",
   "execution_count": 11,
   "id": "dd652106",
   "metadata": {},
   "outputs": [
    {
     "name": "stdout",
     "output_type": "stream",
     "text": [
      "[232965 155466  83238 ...      1      1      1]\n",
      "[ 24. 121. 195.  54.  72. 122. 111.   1. 225. 124.]\n"
     ]
    }
   ],
   "source": [
    "unique_crops, unique_counts = np.unique(np.array(cropland_data_clipped[\"cropland\"].isel(time=-1)), return_counts=True)\n",
    "sorted_indices = np.argsort(unique_counts)\n",
    "sorted_counts = unique_counts[sorted_indices][::-1]\n",
    "print(sorted_counts)\n",
    "sorted_crops = unique_crops[sorted_indices][::-1]\n",
    "print(sorted_crops[10:20])"
   ]
  },
  {
   "cell_type": "markdown",
   "id": "072f1000",
   "metadata": {},
   "source": [
    "152 - shrub land\n",
    "\n",
    "176 - grassland / pasture\n",
    "\n",
    "142 - evergreen forest\n",
    "\n",
    "75 - Almonds\n",
    "\n",
    "61 - Fallowed\n",
    "\n",
    "123 - Developed Land\n",
    "\n",
    "143 - Mixed Forest\n",
    "\n",
    "69 - Grapes\n",
    "\n",
    "121 - Developed, Open Space\n",
    "\n",
    "111 - Open Water\n",
    "\n",
    "36 - Alfalfa\n",
    "\n",
    "204 - Pistachios\n",
    "\n",
    "3 - Rice\n",
    "\n",
    "122 - Developed Low Intensity\n",
    "\n",
    "76 - Walnuts\n",
    "\n",
    "195 - Wetlands\n",
    "\n",
    "54 - tomatoes\n",
    "\n",
    "1 - corn\n",
    "\n",
    "24 - Winter Wheat\n",
    "\n",
    "72 - Citrus\n",
    "\n",
    "225 - corn and winter wheat\n",
    "\n",
    "124 - developed high intensity"
   ]
  },
  {
   "cell_type": "code",
   "execution_count": 12,
   "id": "e5268513",
   "metadata": {},
   "outputs": [],
   "source": [
    "def transform_cropland(cropland):\n",
    "    '''Transform a cropland array into a new format.\n",
    "    '''\n",
    "    desired_classifications = [152, 176, 142, 75, 61, 123, 143, 69, 121, 111, 36, 204, 3, 122, 76, 195]\n",
    "    new_cropland = cropland.copy()\n",
    "    new_cropland[~np.isin(cropland, desired_classifications)] = 0 # water/void\n",
    "    new_cropland[cropland==111] = 1 # Openwater\n",
    "    new_cropland[np.isin(cropland, [152,176,142,143,195])] = 2 # shrubland\n",
    "    new_cropland[np.isin(cropland, [121, 123, 122,124])] = 3 # Developed\n",
    "    new_cropland[cropland==61] = 4 # Fallowed\n",
    "    new_cropland[cropland==75] = 5 # Almonds\n",
    "    new_cropland[cropland==204] = 6 # Pistachios\n",
    "    new_cropland[cropland==76] = 7 # Walnuts\n",
    "    new_cropland[cropland==69] = 8 # Grapes\n",
    "    new_cropland[cropland==54] = 9 # Tomatoes\n",
    "    new_cropland[cropland==72] = 10 # citrus\n",
    "    new_cropland[cropland==3] = 11 #Rice\n",
    "    new_cropland[cropland==36] = 12 # Alfalfa\n",
    "    new_cropland[np.isin(cropland, [1,225,24])] = 13 # corn and winter wheat\n",
    "    \n",
    "    \n",
    "    return new_cropland"
   ]
  },
  {
   "cell_type": "code",
   "execution_count": 13,
   "id": "8fb5478b",
   "metadata": {},
   "outputs": [],
   "source": [
    "test = transform_cropland(np.array(cropland_data[\"cropland\"].isel(time=-1)))"
   ]
  },
  {
   "cell_type": "code",
   "execution_count": 14,
   "id": "695b6e2e",
   "metadata": {},
   "outputs": [
    {
     "data": {
      "text/plain": [
       "<matplotlib.colorbar.Colorbar at 0x7fec3fadd1d0>"
      ]
     },
     "execution_count": 14,
     "metadata": {},
     "output_type": "execute_result"
    },
    {
     "data": {
      "image/png": "[encoded data removed]",
      "text/plain": [
       "<Figure size 432x288 with 2 Axes>"
      ]
     },
     "metadata": {
      "needs_background": "light"
     },
     "output_type": "display_data"
    }
   ],
   "source": [
    "plt.imshow(test)\n",
    "plt.colorbar()"
   ]
  },
  {
   "cell_type": "code",
   "execution_count": 15,
   "id": "6f77980a",
   "metadata": {},
   "outputs": [],
   "source": [
    "for i in range(6):\n",
    "    cropland_slice = cropland_data[\"cropland\"].isel(time=16+i)\n",
    "    # this is super jank\n",
    "    cropland_data[\"cropland\"].loc[\"20\"+str(16+i)+\"-01-01\"] = transform_cropland(np.array(cropland_slice))"
   ]
  },
  {
   "cell_type": "code",
   "execution_count": 16,
   "id": "2f4ac034",
   "metadata": {},
   "outputs": [
    {
     "name": "stdout",
     "output_type": "stream",
     "text": [
      "[0.5, 1.5, 2.5, 3.5, 4.5, 5.5, 6.5, 7.5, 8.5, 9.5, 10.5, 11.5, 12.5, 13.5]\n"
     ]
    }
   ],
   "source": [
    "cmap = colors.ListedColormap(['blue', 'skyblue', 'green', 'grey', 'indigo', 'pink', \n",
    "                                  'cyan', 'black', 'limegreen','red', 'orange',  \n",
    "                              'brown', 'yellow', 'purple'])\n",
    "colormap_labels = ['ocean/other', 'inland water','shrubland', 'developed','fallowed', \n",
    "                   'almonds', 'pistachios', 'walnuts', 'grapes', 'tomatoes', 'citrus',\n",
    "                  'rice', 'alfalfa', 'corn/winter wheat']\n",
    "ticks = [0.5+i for i in range(len(colormap_labels))]\n",
    "#bounds = [1, 2, 4, 7, 8]\n",
    "#norm = mpl.colors.BoundaryNorm(bounds, cmap.N)\n",
    "#fig.colorbar(\n",
    "#    mpl.cm.ScalarMappable(cmap=cmap, norm=norm),\n",
    "#    cax=ax,\n",
    "#    extend='both',\n",
    "#    ticks=bounds,\n",
    "#    spacing='proportional',\n",
    "#    orientation='horizontal',\n",
    "#    label='Discrete intervals, some other units',\n",
    "#)\n",
    "print(ticks)"
   ]
  },
  {
   "cell_type": "code",
   "execution_count": 17,
   "id": "97fc07ba",
   "metadata": {},
   "outputs": [
    {
     "data": {
      "text/plain": [
       "<Projected CRS: EPSG:3310>\n",
       "Name: NAD83 / California Albers\n",
       "Axis Info [cartesian]:\n",
       "- X[east]: Easting (metre)\n",
       "- Y[north]: Northing (metre)\n",
       "Area of Use:\n",
       "- name: United States (USA) - California.\n",
       "- bounds: (-124.45, 32.53, -114.12, 42.01)\n",
       "Coordinate Operation:\n",
       "- name: California Albers\n",
       "- method: Albers Equal Area\n",
       "Datum: North American Datum 1983\n",
       "- Ellipsoid: GRS 1980\n",
       "- Prime Meridian: Greenwich"
      ]
     },
     "execution_count": 17,
     "metadata": {},
     "output_type": "execute_result"
    }
   ],
   "source": [
    "gsa_cv_cleaned_no_small.crs"
   ]
  },
  {
   "cell_type": "code",
   "execution_count": 24,
   "id": "4d0e7bf9",
   "metadata": {},
   "outputs": [],
   "source": [
    "def slider_plot_uncertainty(i_time):\n",
    "    \n",
    "    ### Comb through each GSA and get median + uncertainty\n",
    "    for i in range(len(et_data_file_names)):\n",
    "        sample_file = pd.read_csv(et_data_file_names[i], parse_dates=['time'])\n",
    "        sample_file['et_ensemble_variance'] = sample_file['et_ensemble_mad_max'] - sample_file['et_ensemble_mad_min']\n",
    "        sample_file_non_nan = sample_file[sample_file['et_ensemble_variance'].notnull()]\n",
    "        sample_file_non_nan_index = sample_file.index[sample_file['et_ensemble_variance'].notnull()]\n",
    "        try:\n",
    "            sample_file_sample_value = (sample_file_non_nan['et_ensemble_variance'][sample_file_non_nan_index[i_time]])\n",
    "            sample_file_sample_value_2 = (sample_file_non_nan['et_ensemble_mad'][sample_file_non_nan_index[i_time]])\n",
    "            row_id = gsa_cv_cleaned_no_small.index[\n",
    "                gsa_cv_cleaned_no_small['GSA_ID'] == et_data_file_gsas[i]].tolist()[0]\n",
    "            row_area = gsa_cv_cleaned_no_small.loc[row_id].geometry.area * 1e-6\n",
    "            gsa_cv_cleaned_no_small.loc[row_id, 'variance'] = (sample_file_sample_value \n",
    "                                                              / row_area *1e6)\n",
    "            \n",
    "            gsa_cv_cleaned_no_small.loc[row_id, 'median'] = (sample_file_sample_value_2 / row_area * 1e6)\n",
    "        except:\n",
    "            continue\n",
    "    sample_time = sample_file['time'][sample_file_non_nan_index[i_time]]\n",
    "    \n",
    "    ### plot results\n",
    "    fig, ax = plt.subplots(1,2, figsize = (16,9), subplot_kw={'projection': ccrs.PlateCarree()})\n",
    "    \n",
    "    ### ET Uncertainty\n",
    "    staman_image = ax[0].add_image(stamen_terrain, 8)\n",
    "    gsa_cv_cleaned_no_small.to_crs(4326).boundary.plot(ax=ax[0], color='red', linewidth=1)\n",
    "    gsa_cv_cleaned_no_small.to_crs(4326).plot(column='variance', ax=ax[0], legend=True, vmin=0, vmax=50,\n",
    "                                 legend_kwds={'label': \"ET Uncertainty (mm)\",\n",
    "                                'orientation': \"vertical\"})    \n",
    "    ax[0].set_title(\"Average ET Uncertainty: \" + str(sample_time.year) + '-' + str(sample_time.month))\n",
    "    xlim = ax[0].get_xlim()\n",
    "    ylim = ax[0].get_ylim()\n",
    "    ax[0].set_xticks([-122, -121, -120, -119])\n",
    "    ax[0].set_yticks([35, 36, 37,38,39,40,41])\n",
    "    ax[0].set_xlim(xlim)\n",
    "    ax[0].set_ylim(ylim)\n",
    "    ax[0].set_xlabel(\"Latitude\")\n",
    "    ax[0].set_ylabel(\"Longitude\")\n",
    "    ### Cropland\n",
    "    gsa_cv_cleaned_no_small.to_crs(4326).boundary.plot(ax=ax[1], color='red', linewidth=1)\n",
    "    cropland_time = math.floor(i_time/12)    \n",
    "    tick_locs = np.linspace(cropland_slice.min(), cropland_slice.max(), 1)[1::2]\n",
    "    cbar_tick_label = np.arange(cropland_slice.min(), cropland_slice.max() + 1)\n",
    "    \n",
    "    # this is super jank\n",
    "    im = cropland_data[\"cropland\"].isel(time=16+cropland_time).plot(ax=ax[1], cmap=cmap, add_colorbar=False,\n",
    "                                                                   vmin=0, vmax=ticks[-1]+0.5)\n",
    "    cbar = plt.colorbar(im, ax=ax[1], ticks=ticks)\n",
    "    #cbar.set_ticks = [0.5,1.5,2.5,3.5,4.5,5.5,6.5,7.5,8.5,9.5]\n",
    "    cbar.ax.set_yticklabels(colormap_labels)\n",
    "    ax[1].set_xticks([-122, -121, -120, -119])\n",
    "    ax[1].set_yticks([35, 36, 37,38,39,40,41])\n",
    "    ax[1].set_xlim(xlim)\n",
    "    ax[1].set_ylim(ylim)\n",
    "    ax[1].set_xlabel(\"Latitude\")\n",
    "    ax[1].set_ylabel(\"Longitude\")\n",
    "    ax[1].set_title(\"Cropland Data Layer: \" + str(sample_time.year))\n",
    "    \n",
    "    \n",
    "    \n",
    "    plt.tight_layout()"
   ]
  },
  {
   "cell_type": "code",
   "execution_count": 26,
   "id": "50f036d6",
   "metadata": {},
   "outputs": [
    {
     "data": {
      "application/vnd.jupyter.widget-view+json": {
       "model_id": "f5d8d8c5b23a469db448b08f24730420",
       "version_major": 2,
       "version_minor": 0
      },
      "text/plain": [
       "interactive(children=(IntSlider(value=0, description='i_time', max=59), Output()), _dom_classes=('widget-inter…"
      ]
     },
     "metadata": {},
     "output_type": "display_data"
    },
    {
     "data": {
      "text/plain": [
       "<function __main__.slider_plot_uncertainty(i_time)>"
      ]
     },
     "execution_count": 26,
     "metadata": {},
     "output_type": "execute_result"
    }
   ],
   "source": [
    "interact(slider_plot_uncertainty, i_time = widgets.IntSlider(min=0, max=59, step=1))"
   ]
  },
  {
   "cell_type": "code",
   "execution_count": null,
   "id": "8668e53d",
   "metadata": {},
   "outputs": [],
   "source": []
  },
  {
   "cell_type": "code",
   "execution_count": 22,
   "id": "9ac29b8a",
   "metadata": {},
   "outputs": [],
   "source": [
    "def slider_plot_et_median(i_time):\n",
    "    \n",
    "    ### Comb through each GSA and get median + uncertainty\n",
    "    for i in range(len(et_data_file_names)):\n",
    "        sample_file = pd.read_csv(et_data_file_names[i], parse_dates=['time'])\n",
    "        sample_file['et_ensemble_variance'] = sample_file['et_ensemble_mad_max'] - sample_file['et_ensemble_mad_min']\n",
    "        sample_file_non_nan = sample_file[sample_file['et_ensemble_variance'].notnull()]\n",
    "        sample_file_non_nan_index = sample_file.index[sample_file['et_ensemble_variance'].notnull()]\n",
    "        try:\n",
    "            sample_file_sample_value = (sample_file_non_nan['et_ensemble_variance'][sample_file_non_nan_index[i_time]])\n",
    "            sample_file_sample_value_2 = (sample_file_non_nan['et_ensemble_mad'][sample_file_non_nan_index[i_time]])\n",
    "            row_id = gsa_cv_cleaned_no_small.index[\n",
    "                gsa_cv_cleaned_no_small['GSA_ID'] == et_data_file_gsas[i]].tolist()[0]\n",
    "            row_area = gsa_cv_cleaned_no_small.loc[row_id].geometry.area * 1e-6\n",
    "            gsa_cv_cleaned_no_small.loc[row_id, 'variance'] = (sample_file_sample_value \n",
    "                                                              / row_area *1e6)\n",
    "            \n",
    "            gsa_cv_cleaned_no_small.loc[row_id, 'median'] = (sample_file_sample_value_2 / row_area * 1e6)\n",
    "        except:\n",
    "            continue\n",
    "    sample_time = sample_file['time'][sample_file_non_nan_index[i_time]]\n",
    "    \n",
    "    ### plot results\n",
    "    fig, ax = plt.subplots(1,2, figsize = (16,9), subplot_kw={'projection': ccrs.PlateCarree()})\n",
    "    \n",
    "    ### ET Uncertainty\n",
    "    staman_image = ax[0].add_image(stamen_terrain, 8)\n",
    "    gsa_cv_cleaned_no_small.to_crs(4326).boundary.plot(ax=ax[0], color='red', linewidth=1)\n",
    "    gsa_cv_cleaned_no_small.to_crs(4326).plot(column='median', ax=ax[0], legend=True, vmin=0, vmax=100,\n",
    "                                 legend_kwds={'label': \"Median ET Estimate (mm)\",\n",
    "                                'orientation': \"vertical\"})    \n",
    "    ax[0].set_title(\"Median ET Estimate: \" + str(sample_time.year) + '-' + str(sample_time.month))\n",
    "    xlim = ax[0].get_xlim()\n",
    "    ylim = ax[0].get_ylim()\n",
    "    ax[0].set_xticks([-122, -121, -120, -119])\n",
    "    ax[0].set_yticks([35, 36, 37,38,39,40,41])\n",
    "    ax[0].set_xlim(xlim)\n",
    "    ax[0].set_ylim(ylim)\n",
    "    ax[0].set_xlabel(\"Latitude\")\n",
    "    ax[0].set_ylabel(\"Longitude\")\n",
    "    ### Cropland\n",
    "    gsa_cv_cleaned_no_small.to_crs(4326).boundary.plot(ax=ax[1], color='red', linewidth=1)\n",
    "    cropland_time = math.floor(i_time/12)    \n",
    "    tick_locs = np.linspace(cropland_slice.min(), cropland_slice.max(), 1)[1::2]\n",
    "    cbar_tick_label = np.arange(cropland_slice.min(), cropland_slice.max() + 1)\n",
    "    \n",
    "    # this is super jank\n",
    "    im = cropland_data[\"cropland\"].isel(time=16+cropland_time).plot(ax=ax[1], cmap=cmap, add_colorbar=False,\n",
    "                                                                   vmin=0, vmax=ticks[-1]+0.5)\n",
    "    cbar = plt.colorbar(im, ax=ax[1], ticks=ticks)\n",
    "    #cbar.set_ticks = [0.5,1.5,2.5,3.5,4.5,5.5,6.5,7.5,8.5,9.5]\n",
    "    cbar.ax.set_yticklabels(colormap_labels)\n",
    "    ax[1].set_xticks([-122, -121, -120, -119])\n",
    "    ax[1].set_yticks([35, 36, 37,38,39,40,41])\n",
    "    ax[1].set_xlim(xlim)\n",
    "    ax[1].set_ylim(ylim)\n",
    "    ax[1].set_xlabel(\"Latitude\")\n",
    "    ax[1].set_ylabel(\"Longitude\")\n",
    "    ax[1].set_title(\"Cropland Data Layer: \" + str(sample_time.year))\n",
    "    \n",
    "    \n",
    "    \n",
    "    plt.tight_layout()"
   ]
  },
  {
   "cell_type": "code",
   "execution_count": 23,
   "id": "5bf0b7fc",
   "metadata": {},
   "outputs": [
    {
     "data": {
      "application/vnd.jupyter.widget-view+json": {
       "model_id": "1308ead749084f2b90ce8707378ae9d0",
       "version_major": 2,
       "version_minor": 0
      },
      "text/plain": [
       "interactive(children=(IntSlider(value=0, description='i_time', max=59), Output()), _dom_classes=('widget-inter…"
      ]
     },
     "metadata": {},
     "output_type": "display_data"
    },
    {
     "data": {
      "text/plain": [
       "<function __main__.slider_plot_et_median(i_time)>"
      ]
     },
     "execution_count": 23,
     "metadata": {},
     "output_type": "execute_result"
    }
   ],
   "source": [
    "interact(slider_plot_et_median, i_time = widgets.IntSlider(min=0, max=59, step=1))"
   ]
  },
  {
   "cell_type": "code",
   "execution_count": null,
   "id": "23bd1027",
   "metadata": {},
   "outputs": [],
   "source": [
    "for i_time in range(59):\n",
    "    print(i_time)\n",
    "    for i in range(len(et_data_file_names)):\n",
    "        sample_file = pd.read_csv(et_data_file_names[i], parse_dates=['time'])\n",
    "\n",
    "        sample_file_non_nan = sample_file[sample_file['et_ensemble_mad'].notnull()]\n",
    "        sample_file_non_nan_index = sample_file.index[sample_file['et_ensemble_mad'].notnull()]\n",
    "        try:\n",
    "            sample_file_sample_value = (sample_file_non_nan['et_ensemble_mad'][sample_file_non_nan_index[i_time]])\n",
    "            row_id = gsa_cv_cleaned_no_small.index[\n",
    "                gsa_cv_cleaned_no_small['GSA_ID'] == et_data_file_gsas[i]].tolist()[0]\n",
    "            row_area = gsa_cv_cleaned_no_small.loc[row_id].geometry.area * 1e-6\n",
    "            gsa_cv_cleaned_no_small.loc[row_id, 'median'] = (sample_file_sample_value / row_area * 1e6)\n",
    "        except:\n",
    "            continue\n",
    "    sample_time = sample_file['time'][sample_file_non_nan_index[i_time]]\n",
    "\n",
    "    fig = plt.figure(figsize = (14,9))\n",
    "    ax = plt.axes(projection=ccrs.PlateCarree())\n",
    "    ax.add_image(stamen_terrain, 8)\n",
    "    #fig, ax = plt.subplots(1,1,figsize=(12,12))\n",
    "    #cx.add_basemap(ax, crs='EPSG:3310', zoom=6)\n",
    "    #madrid = cx.Place(\"California\")\n",
    "    #ax = madrid.plot()\n",
    "\n",
    "\n",
    "    gsa_cv_cleaned_no_small.to_crs(4326).boundary.plot(ax=ax)\n",
    "    gsa_cv_cleaned_no_small.to_crs(4326).plot(column='median', ax=ax, legend=True, vmin=0, vmax=150,\n",
    "                                 legend_kwds={'label': \"Median ET Estimate (mm)\",\n",
    "                                'orientation': \"vertical\"})\n",
    "\n",
    "    ax.set_title(\"OpenET Median ET Estimate: \" + str(sample_time.year) + '-' + str(sample_time.month))\n",
    "    plt.savefig('../images/img_median_' + str(i_time) + '.png', \n",
    "                transparent = False,  \n",
    "                facecolor = 'white'\n",
    "               )\n",
    "    plt.close()"
   ]
  },
  {
   "cell_type": "code",
   "execution_count": null,
   "id": "ec465bd3",
   "metadata": {},
   "outputs": [],
   "source": [
    "frames = []\n",
    "for i_time in range(59):\n",
    "    image = imageio.imread('../images/img_median_' + str(i_time) + '.png')\n",
    "    frames.append(image)\n",
    "imageio.mimsave('../images/example_median.gif', # output gif\n",
    "                frames,          # array of input frames\n",
    "                fps = 3)         # optional: frames per second"
   ]
  },
  {
   "cell_type": "code",
   "execution_count": null,
   "id": "a3a84c54",
   "metadata": {},
   "outputs": [],
   "source": [
    "for i_time in range(59):\n",
    "    print(i_time)\n",
    "    for i in range(len(et_data_file_names)):\n",
    "        sample_file = pd.read_csv(et_data_file_names[i], parse_dates=['time'])\n",
    "        sample_file['et_ensemble_variance'] = sample_file['et_ensemble_mad_max'] - sample_file['et_ensemble_mad_min']\n",
    "        sample_file_non_nan = sample_file[sample_file['et_ensemble_variance'].notnull()]\n",
    "        sample_file_non_nan_index = sample_file.index[sample_file['et_ensemble_variance'].notnull()]\n",
    "        try:\n",
    "            sample_file_sample_value = (sample_file_non_nan['et_ensemble_variance'][sample_file_non_nan_index[i_time]])\n",
    "            row_id = gsa_cv_cleaned_no_small.index[\n",
    "                gsa_cv_cleaned_no_small['GSA_ID'] == et_data_file_gsas[i]].tolist()[0]\n",
    "            row_area = gsa_cv_cleaned_no_small.loc[row_id].geometry.area * 1e-6\n",
    "            gsa_cv_cleaned_no_small.loc[row_id, 'variance'] = (sample_file_sample_value / row_area * 1e6)\n",
    "        except:\n",
    "            continue\n",
    "    sample_time = sample_file['time'][sample_file_non_nan_index[i_time]]\n",
    "\n",
    "    fig = plt.figure(figsize = (14,9))\n",
    "    ax = plt.axes(projection=ccrs.PlateCarree())\n",
    "    ax.add_image(stamen_terrain, 8)\n",
    "    #fig, ax = plt.subplots(1,1,figsize=(12,12))\n",
    "    #cx.add_basemap(ax, crs='EPSG:3310', zoom=6)\n",
    "    #madrid = cx.Place(\"California\")\n",
    "    #ax = madrid.plot()\n",
    "\n",
    "\n",
    "    gsa_cv_cleaned_no_small.to_crs(4326).boundary.plot(ax=ax)\n",
    "    gsa_cv_cleaned_no_small.to_crs(4326).plot(column='variance', ax=ax, legend=True, vmin=0, vmax=75,\n",
    "                                 legend_kwds={'label': \"ET Uncertainty (mm)\",\n",
    "                                'orientation': \"vertical\"})\n",
    "\n",
    "    ax.set_title(\"Average ET Uncertainty: \" + str(sample_time.year) + '-' + str(sample_time.month))\n",
    "    plt.savefig('../images/img_uncertainty_' + str(i_time) + '.png', \n",
    "                transparent = False,  \n",
    "                facecolor = 'white'\n",
    "               )\n",
    "    plt.close()"
   ]
  },
  {
   "cell_type": "code",
   "execution_count": null,
   "id": "5d62385c",
   "metadata": {},
   "outputs": [],
   "source": [
    "frames = []\n",
    "for i_time in range(59):\n",
    "    image = imageio.imread('../images/img_uncertainty_' + str(i_time) + '.png')\n",
    "    frames.append(image)\n",
    "imageio.mimsave('../images/example_uncertainty.gif', # output gif\n",
    "                frames,          # array of input frames\n",
    "                fps = 3)         # optional: frames per second"
   ]
  },
  {
   "cell_type": "markdown",
   "id": "8a56bcb6",
   "metadata": {},
   "source": [
    "# OLD"
   ]
  },
  {
   "cell_type": "code",
   "execution_count": null,
   "id": "b004ed72",
   "metadata": {},
   "outputs": [],
   "source": [
    "fig = plt.figure(figsize = (14,9))\n",
    "ax = plt.axes(projection=ccrs.PlateCarree())\n",
    "ax.add_image(stamen_terrain, 8)\n",
    "@widgets.interact(i_time=(0, 59, 1))\n",
    "def update(i_time=0):\n",
    "    \"\"\"Remove old lines from plot and plot new one\"\"\"\n",
    "    for i in range(len(et_data_file_names)):\n",
    "        sample_file = pd.read_csv(et_data_file_names[i], parse_dates=['time'])\n",
    "        sample_file['et_ensemble_variance'] = sample_file['et_ensemble_mad_max'] - sample_file['et_ensemble_mad_min']\n",
    "        sample_file_non_nan = sample_file[sample_file['et_ensemble_variance'].notnull()]\n",
    "        sample_file_non_nan_index = sample_file.index[sample_file['et_ensemble_variance'].notnull()]\n",
    "        try:\n",
    "            sample_file_sample_value = (sample_file_non_nan['et_ensemble_variance'][sample_file_non_nan_index[i_time]])\n",
    "            row_id = gsa_cv_cleaned_no_small.index[\n",
    "                gsa_cv_cleaned_no_small['GSA_ID'] == et_data_file_gsas[i]].tolist()[0]\n",
    "            gsa_cv_cleaned_no_small.loc[row_id, 'variance'] = (sample_file_sample_value \n",
    "                                                              / gsa_cv_cleaned_no_small.loc[row_id, 'ShapeSTAre'])\n",
    "        except:\n",
    "            continue\n",
    "    sample_time = sample_file['time'][sample_file_non_nan_index[i_time]]\n",
    "    gsa_cv_cleaned_no_small.plot(column='variance', ax=ax, legend=True, vmin=0, vmax=3e-11,\n",
    "                                 legend_kwds={'label': \"ET Uncertainty (mm/km^2)\",\n",
    "                                'orientation': \"vertical\"})\n",
    "    plt.show()"
   ]
  },
  {
   "cell_type": "code",
   "execution_count": null,
   "id": "959ca2c2",
   "metadata": {
    "scrolled": true
   },
   "outputs": [],
   "source": [
    "for j in range(60):\n",
    "    print(j)\n",
    "    for i in range(len(et_data_file_names)):\n",
    "        sample_file = pd.read_csv(et_data_file_names[i], parse_dates=['time'])\n",
    "        sample_file['et_ensemble_variance'] = sample_file['et_ensemble_mad_max'] - sample_file['et_ensemble_mad_min']\n",
    "        sample_file_non_nan = sample_file[sample_file['et_ensemble_variance'].notnull()]\n",
    "        sample_file_non_nan_index = sample_file.index[sample_file['et_ensemble_variance'].notnull()]\n",
    "        try:\n",
    "            sample_file_sample_value = (sample_file_non_nan['et_ensemble_variance'][sample_file_non_nan_index[j]])\n",
    "            row_id = gsa_cv_cleaned_no_small.index[\n",
    "                gsa_cv_cleaned_no_small['GSA_ID'] == et_data_file_gsas[i]].tolist()[0]\n",
    "            gsa_cv_cleaned_no_small.loc[row_id, 'variance'] = (sample_file_sample_value \n",
    "                                                              / gsa_cv_cleaned_no_small.loc[row_id, 'ShapeSTAre'])\n",
    "        except:\n",
    "            continue\n",
    "    fig, ax = plt.subplots(1,1,figsize=(12,12))\n",
    "    gsa_cv_cleaned_no_small.boundary.plot(ax=ax)\n",
    "    cx.add_basemap(ax)\n",
    "    asset = gsa_cv_cleaned_no_small.plot(column='variance', ax=ax, legend=True)"
   ]
  },
  {
   "cell_type": "code",
   "execution_count": null,
   "id": "e676576f",
   "metadata": {},
   "outputs": [],
   "source": [
    "print(gsa_cv_cleaned_no_small['variance'].max())"
   ]
  },
  {
   "cell_type": "code",
   "execution_count": null,
   "id": "bf10fbd1",
   "metadata": {},
   "outputs": [],
   "source": [
    "fig, ax = plt.subplots(1,1,figsize=(12,12))\n",
    "gsa_cv_cleaned_no_small.boundary.plot(ax=ax)\n",
    "asset = gsa_cv_cleaned_no_small.plot(column='variance', ax=ax, legend=True)"
   ]
  },
  {
   "cell_type": "code",
   "execution_count": null,
   "id": "73eda280",
   "metadata": {},
   "outputs": [],
   "source": [
    "for i in range(len(et_data_file_names)):\n",
    "    sample_file = pd.read_csv(et_data_file_names[i], parse_dates=['time'])\n",
    "\n",
    "    sample_file_non_nan = sample_file[sample_file['et_ensemble_mad'].notnull()]\n",
    "    sample_file_non_nan_index = sample_file.index[sample_file['et_ensemble_mad'].notnull()]\n",
    "    try:\n",
    "        sample_file_sample_value = (sample_file_non_nan['et_ensemble_mad'][sample_file_non_nan_index[4]])\n",
    "        row_id = gsa_cv_cleaned_no_small.index[\n",
    "            gsa_cv_cleaned_no_small['GSA_ID'] == et_data_file_gsas[i]].tolist()[0]\n",
    "        row_area = gsa_cv_cleaned_no_small.loc[row_id].geometry.area * 1e-6\n",
    "        gsa_cv_cleaned_no_small.loc[row_id, 'median'] = (sample_file_sample_value)\n",
    "    except:\n",
    "        continue"
   ]
  },
  {
   "cell_type": "code",
   "execution_count": null,
   "id": "aaf18e6b",
   "metadata": {},
   "outputs": [],
   "source": [
    "gsa_cv_cleaned_no_small[gsa_cv_cleaned_no_small['GSA_Name']=='Wyandotte Creek GSA']"
   ]
  },
  {
   "cell_type": "code",
   "execution_count": null,
   "id": "5a31e999",
   "metadata": {},
   "outputs": [],
   "source": []
  },
  {
   "cell_type": "code",
   "execution_count": null,
   "id": "3c68abf6",
   "metadata": {},
   "outputs": [],
   "source": [
    "@widgets.interact(i_time=(0, 59, 1))\n",
    "def update(i_time=0):\n",
    "    \"\"\"Remove old lines from plot and plot new one\"\"\"\n",
    "    for i in range(len(et_data_file_names)):\n",
    "        sample_file = pd.read_csv(et_data_file_names[i], parse_dates=['time'])\n",
    "        sample_file['et_ensemble_variance'] = sample_file['et_ensemble_mad_max'] - sample_file['et_ensemble_mad_min']\n",
    "        sample_file_non_nan = sample_file[sample_file['et_ensemble_variance'].notnull()]\n",
    "        sample_file_non_nan_index = sample_file.index[sample_file['et_ensemble_variance'].notnull()]\n",
    "        try:\n",
    "            sample_file_sample_value = (sample_file_non_nan['et_ensemble_variance'][sample_file_non_nan_index[i_time]])\n",
    "            row_id = gsa_cv_cleaned_no_small.index[\n",
    "                gsa_cv_cleaned_no_small['GSA_ID'] == et_data_file_gsas[i]].tolist()[0]\n",
    "            gsa_cv_cleaned_no_small.loc[row_id, 'variance'] = (sample_file_sample_value \n",
    "                                                              / gsa_cv_cleaned_no_small.loc[row_id, 'ShapeSTAre'])\n",
    "        except:\n",
    "            continue\n",
    "    sample_time = sample_file['time'][sample_file_non_nan_index[i_time]]\n",
    "    gsa_cv_cleaned_no_small.plot(column='variance', ax=ax, legend=True, vmin=0, vmax=3e-11,\n",
    "                                 legend_kwds={'label': \"ET Uncertainty (mm/km^2)\",\n",
    "                                'orientation': \"vertical\"})\n",
    "    plt.show()"
   ]
  },
  {
   "cell_type": "code",
   "execution_count": null,
   "id": "afd13ec3",
   "metadata": {},
   "outputs": [],
   "source": [
    "fig = plt.figure(figsize = (14,9))\n",
    "ax = plt.axes(projection=ccrs.PlateCarree())\n",
    "\n",
    "# Get some \n",
    "cv_shape.to_crs(4326, inplace=True)\n",
    "crs= cv_shape.to_crs(4326)\n",
    "\n",
    "imextent = cv_shape.bounds\n",
    "\n",
    "\n",
    "lllon, lllat = imextent.minx.values[0], imextent.miny.values[0]\n",
    "urlon, urlat = imextent.maxx.values[0], imextent.maxy.values[0]\n",
    "\n",
    "print(lllon, lllat)\n",
    "print(urlon, urlat)\n",
    "ax.set_extent([lllon-.25, urlon+.25, lllat-.25, urlat+.25])\n",
    "\n",
    "# Create a Stamen Terrain instance.\n",
    "\n",
    "stamen_terrain\n",
    "# Create a GeoAxes in the tile's projection.\n",
    "#gl = ax.gridlines(draw_labels=True)\n",
    "#gl.top_labels= False\n",
    "#gl.right_labels = False\n",
    "\n",
    "#gl.xlocator = mticker.FixedLocator(np.linspace(-180,180,1441))\n",
    "#gl.ylocator = mticker.FixedLocator(np.linspace(0,90,721))\n",
    "#gl.xformatter = LONGITUDE_FORMATTER\n",
    "#gl.yformatter = LATITUDE_FORMATTER\n",
    "#gl.xlabel_style = {'size': 9, 'color': 'gray'}\n",
    "#gl.ylabel_style = {'size': 9, 'color': 'gray'}\n",
    "\n",
    "#gsa_cv_cleaned_no_small.to_crs(4326).boundary.plot(ax=ax)\n",
    "gsa_boundaries = ShapelyFeature(gsa_cv_cleaned_no_small.to_crs(4326).geometry.values,\n",
    "                        ccrs.PlateCarree(), edgecolor='blue', facecolor = 'none', linewidth = 2)\n",
    "ax.add_image(stamen_terrain, 8)\n",
    "ax.add_feature(gsa_boundaries)\n",
    "ax.set_aspect('auto')\n",
    "\n",
    "@widgets.interact(i_time=(0, 59, 1))\n",
    "def update(i_time=0):\n",
    "    for i in range(len(et_data_file_names)):\n",
    "        sample_file = pd.read_csv(et_data_file_names[i], parse_dates=['time'])\n",
    "        sample_file['et_ensemble_variance'] = sample_file['et_ensemble_mad_max'] - sample_file['et_ensemble_mad_min']\n",
    "        sample_file_non_nan = sample_file[sample_file['et_ensemble_variance'].notnull()]\n",
    "        sample_file_non_nan_index = sample_file.index[sample_file['et_ensemble_variance'].notnull()]\n",
    "        try:\n",
    "            sample_file_sample_value = (sample_file_non_nan['et_ensemble_variance'][sample_file_non_nan_index[i_time]])\n",
    "            row_id = gsa_cv_cleaned_no_small.index[\n",
    "                gsa_cv_cleaned_no_small['GSA_ID'] == et_data_file_gsas[i]].tolist()[0]\n",
    "            gsa_cv_cleaned_no_small.loc[row_id, 'variance'] = (sample_file_sample_value \n",
    "                                                              / gsa_cv_cleaned_no_small.loc[row_id, 'ShapeSTAre'])\n",
    "        except:\n",
    "            continue\n",
    "    sample_time = sample_file['time'][sample_file_non_nan_index[i_time]]\n",
    "    gsa_cv_cleaned_no_small.plot(column='variance', ax=ax, legend=True, vmin=0, vmax=3e-11,\n",
    "                                 legend_kwds={'label': \"ET Uncertainty (mm/km^2)\",\n",
    "                                'orientation': \"vertical\"})\n",
    "    plt.show()\n",
    "\n"
   ]
  }
 ],
 "metadata": {
  "kernelspec": {
   "display_name": "Python 3",
   "language": "python",
   "name": "python3"
  },
  "language_info": {
   "codemirror_mode": {
    "name": "ipython",
    "version": 3
   },
   "file_extension": ".py",
   "mimetype": "text/x-python",
   "name": "python",
   "nbconvert_exporter": "python",
   "pygments_lexer": "ipython3",
   "version": "3.6.15"
  }
 },
 "nbformat": 4,
 "nbformat_minor": 5
}
